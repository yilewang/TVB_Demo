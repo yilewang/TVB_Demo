{
 "cells": [
  {
   "cell_type": "code",
   "execution_count": null,
   "metadata": {},
   "outputs": [],
   "source": [
    "import os\n",
    "from tvb.simulator.lab import *\n",
    "import numpy as np\n",
    "import seaborn\n",
    "import matplotlib.pyplot as plt\n",
    "LOG = get_logger('demo')\n",
    "import pickle as cPickle\n",
    "from tvb.simulator.models.stefanescu_jirsa import ReducedSetHindmarshRose\n",
    "from os.path import join as pjoin\n",
    "import pandas as pd\n",
    "import scipy.io"
   ]
  },
  {
   "cell_type": "code",
   "execution_count": null,
   "metadata": {},
   "outputs": [],
   "source": [
    "def tvb_K21_fitting(k21, Go, file):\n",
    "    connectivity.speed = np.array([10.])\n",
    "    sim = simulator.Simulator(\n",
    "        model=ReducedSetHindmarshRose(K21=np.array([k21])), \n",
    "        connectivity=connectivity.Connectivity.from_file(file),                      \n",
    "        coupling=coupling.Linear(a=np.array([Go])),\n",
    "        simulation_length=1e3*416,\n",
    "        integrator=integrators.HeunStochastic(dt=0.01220703125, noise=noise.Additive(nsig=np.array([1.0]), ntau=0.0,\n",
    "                                                                                    random_stream=np.random.RandomState(seed=42))),\n",
    "        monitors=(\n",
    "        monitors.TemporalAverage(period=1.),\n",
    "        monitors.Bold(hrf_kernel = equations.Gamma(), period=2000.),\n",
    "        monitors.ProgressLogger(period=1e2)\n",
    "        ))\n",
    "    sim.configure()\n",
    "    (tavg_time, tavg_data), (raw_time, raw_data),_ = sim.run()\n",
    "    return raw_data"
   ]
  },
  {
   "cell_type": "code",
   "execution_count": null,
   "metadata": {},
   "outputs": [],
   "source": [
    "\n",
    "data_dir = '/Users/yat-lok/workspaces/data4project/'\n",
    "connectome_dir = pjoin(data_dir, 'lateralization/connectome/zip')\n",
    "ts_dir = pjoin(data_dir, 'lateralization/ts_fmri/fmri_AAL_16/')\n",
    "\n",
    "# read mega_table\n",
    "mega_table = pd.read_excel(pjoin(data_dir, 'mega_table.csv'), sheet_name='hodgpodg', skiprows=1)\n",
    "\n",
    "\n",
    "for case, grp, go in zip(mega_table['caseid'], mega_table['group'], mega_table['Go']):\n",
    "    K21_corr = []\n",
    "    K21_range = np.arange(0.0, 3.0, 0.1)\n",
    "    for K21 in K21_range:\n",
    "        K21 = np.round(K21, 1)\n",
    "        file = pjoin(connectome_dir, grp, case +'.zip')\n",
    "\n",
    "\n",
    "        raw_data = tvb_K21_fitting(K21, go, file)\n",
    "        raw_data_mean = np.mean(raw_data, axis=3)\n",
    "        # calculate correlation of the matrix\n",
    "        s_corr = raw_data_mean[:,0,:].corr()\n",
    "\n",
    "        # read mat file\n",
    "        mat = scipy.io.loadmat(pjoin(ts_dir, grp, case,'.mat'))\n",
    "        roi_signal = mat['ROISignal']\n",
    "        df_roi = pd.DataFrame(roi_signal, columns = ['aCNG-L', 'aCNG-R','mCNG-L','mCNG-R','pCNG-L','pCNG-R', 'HIP-L','HIP-R','PHG-L','PHG-R','AMY-L','AMY-R', 'sTEMp-L','sTEMP-R','mTEMp-L','mTEMp-R'])\n",
    "        e_corr = df_roi.corr()\n",
    "\n",
    "        # take the top triangle of the matrix using triu\n",
    "        e_corr = np.triu(e_corr, k=1)\n",
    "        s_corr = np.triu(s_corr, k=1)\n",
    "\n",
    "        # calculate the correlation of the two matrices\n",
    "        s_corr = s_corr.flatten()\n",
    "        e_corr = e_corr.flatten()\n",
    "        # pearson correlation of two flattened matrices\n",
    "        corr_pearson = np.corrcoef(s_corr, e_corr)[0,1]\n",
    "        K21_corr.append(corr_pearson)\n",
    "    plt.plot(K21_range, K21_corr)\n"
   ]
  }
 ],
 "metadata": {
  "kernelspec": {
   "display_name": "tvbenv",
   "language": "python",
   "name": "python3"
  },
  "language_info": {
   "name": "python",
   "version": "3.11.7"
  }
 },
 "nbformat": 4,
 "nbformat_minor": 2
}
