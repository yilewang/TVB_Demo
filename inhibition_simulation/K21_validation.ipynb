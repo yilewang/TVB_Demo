{
 "cells": [
  {
   "cell_type": "code",
   "execution_count": 1,
   "metadata": {},
   "outputs": [
    {
     "name": "stderr",
     "output_type": "stream",
     "text": [
      "/Users/yilewang/miniconda3/envs/tvbenv/lib/python3.11/site-packages/tvb/datatypes/surfaces.py:60: UserWarning: Geodesic distance module is unavailable; some functionality for surfaces will be unavailable.\n",
      "  warnings.warn(msg)\n"
     ]
    }
   ],
   "source": [
    "import os\n",
    "from tvb.simulator.lab import *\n",
    "import numpy as np\n",
    "import seaborn\n",
    "import matplotlib.pyplot as plt\n",
    "LOG = get_logger('demo')\n",
    "import pickle as cPickle\n",
    "from tvb.simulator.models.stefanescu_jirsa import ReducedSetHindmarshRose\n",
    "from os.path import join as pjoin\n",
    "import pandas as pd\n",
    "import scipy.io"
   ]
  },
  {
   "cell_type": "code",
   "execution_count": null,
   "metadata": {},
   "outputs": [],
   "source": [
    "def tvb_K21_fitting(k21, Go, file):\n",
    "    connectivity.speed = np.array([10.])\n",
    "    sim = simulator.Simulator(\n",
    "        model=ReducedSetHindmarshRose(K21=np.array([k21])), \n",
    "        connectivity=connectivity.Connectivity.from_file(file),                      \n",
    "        coupling=coupling.Linear(a=np.array([Go])),\n",
    "        simulation_length=1e3*416,\n",
    "        integrator=integrators.HeunStochastic(dt=0.01220703125, noise=noise.Additive(nsig=np.array([1.0]), ntau=0.0,\n",
    "                                                                                    random_stream=np.random.RandomState(seed=42))),\n",
    "        monitors=(\n",
    "        monitors.TemporalAverage(period=1.),\n",
    "        monitors.Bold(hrf_kernel = equations.Gamma(), period=2000.),\n",
    "        monitors.ProgressLogger(period=1e2)\n",
    "        ))\n",
    "    sim.configure()\n",
    "    (tavg_time, tavg_data), (raw_time, raw_data),_ = sim.run()\n",
    "    return raw_data"
   ]
  },
  {
   "cell_type": "code",
   "execution_count": 5,
   "metadata": {},
   "outputs": [
    {
     "name": "stdout",
     "output_type": "stream",
     "text": [
      "Index(['caseid',  'group',     'Go',      0.0,      0.1,      0.2,      0.3,\n",
      "            0.4,      0.5,      0.6,      0.7,      0.8,      0.9,      1.0,\n",
      "            1.1,      1.2,      1.3,      1.4,      1.5,      1.6,      1.7,\n",
      "            1.8,      1.9,      2.0,      2.1,      2.2,      2.3,      2.4,\n",
      "            2.5,      2.6,      2.7,      2.8,      2.9],\n",
      "      dtype='object')\n"
     ]
    }
   ],
   "source": [
    "K21_range = np.arange(0.0, 3.0, 0.1)\n",
    "K21_range = [np.round(k21,1) for k21 in K21_range]\n",
    "\n",
    "corr_df = pd.DataFrame(columns = ['caseid', 'group', 'Go', *K21_range])\n",
    "print(corr_df.columns)"
   ]
  },
  {
   "cell_type": "code",
   "execution_count": null,
   "metadata": {},
   "outputs": [],
   "source": [
    "\n",
    "data_dir = '/Users/yat-lok/workspaces/data4project/'\n",
    "connectome_dir = pjoin(data_dir, 'lateralization/connectome/zip')\n",
    "ts_dir = pjoin(data_dir, 'lateralization/ts_fmri/fmri_AAL_16/')\n",
    "\n",
    "# read mega_table\n",
    "mega_table = pd.read_excel(pjoin(data_dir, 'mega_table.csv'), sheet_name='hodgpodg', skiprows=1)\n",
    "\n",
    "K21_range = np.arange(0.0, 3.0, 0.1)\n",
    "# create a dataframe to store the correlation by each K21\n",
    "corr_df = pd.DataFrame(columns = ['caseid', 'group', 'Go', *K21_range])\n",
    "for case, grp, go in zip(mega_table['caseid'], mega_table['group'], mega_table['Go']):\n",
    "    K21_corr = []\n",
    "    \n",
    "    for K21 in K21_range:\n",
    "        K21 = np.round(K21, 1)\n",
    "        file = pjoin(connectome_dir, grp, case +'.zip')\n",
    "\n",
    "\n",
    "        raw_data = tvb_K21_fitting(K21, go, file)\n",
    "        raw_data_mean = np.mean(raw_data, axis=3)\n",
    "        # calculate correlation of the matrix\n",
    "        s_corr = raw_data_mean[:,0,:].corr()\n",
    "\n",
    "        # read mat file\n",
    "        mat = scipy.io.loadmat(pjoin(ts_dir, grp, case,'.mat'))\n",
    "        roi_signal = mat['ROISignal']\n",
    "        df_roi = pd.DataFrame(roi_signal, columns = ['aCNG-L', 'aCNG-R','mCNG-L','mCNG-R','pCNG-L','pCNG-R', 'HIP-L','HIP-R','PHG-L','PHG-R','AMY-L','AMY-R', 'sTEMp-L','sTEMP-R','mTEMp-L','mTEMp-R'])\n",
    "        e_corr = df_roi.corr()\n",
    "\n",
    "        # take the top triangle of the matrix using triu\n",
    "        e_corr = np.triu(e_corr, k=1)\n",
    "        s_corr = np.triu(s_corr, k=1)\n",
    "\n",
    "        # calculate the correlation of the two matrices\n",
    "        s_corr = s_corr.flatten()\n",
    "        e_corr = e_corr.flatten()\n",
    "        # pearson correlation of two flattened matrices\n",
    "        corr_pearson = np.corrcoef(s_corr, e_corr)[0,1]\n",
    "        K21_corr.append(corr_pearson)\n",
    "\n",
    "    plt.plot(K21_range, K21_corr)\n",
    "    plt.show()\n"
   ]
  }
 ],
 "metadata": {
  "kernelspec": {
   "display_name": "tvbenv",
   "language": "python",
   "name": "python3"
  },
  "language_info": {
   "codemirror_mode": {
    "name": "ipython",
    "version": 3
   },
   "file_extension": ".py",
   "mimetype": "text/x-python",
   "name": "python",
   "nbconvert_exporter": "python",
   "pygments_lexer": "ipython3",
   "version": "3.11.7"
  }
 },
 "nbformat": 4,
 "nbformat_minor": 2
}
