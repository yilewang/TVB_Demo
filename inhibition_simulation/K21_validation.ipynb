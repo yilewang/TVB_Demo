{
 "cells": [
  {
   "cell_type": "code",
   "execution_count": 1,
   "metadata": {},
   "outputs": [
    {
     "name": "stderr",
     "output_type": "stream",
     "text": [
      "/Users/yat-lok/miniconda3/envs/tvbenv/lib/python3.10/site-packages/tvb/datatypes/surfaces.py:60: UserWarning: Geodesic distance module is unavailable; some functionality for surfaces will be unavailable.\n",
      "  warnings.warn(msg)\n"
     ]
    }
   ],
   "source": [
    "import os\n",
    "from tvb.simulator.lab import *\n",
    "import numpy as np\n",
    "import seaborn\n",
    "import matplotlib.pyplot as plt\n",
    "import pickle as cPickle\n",
    "from tvb.simulator.models.stefanescu_jirsa import ReducedSetHindmarshRose\n",
    "from os.path import join as pjoin\n",
    "import pandas as pd\n",
    "import scipy.io"
   ]
  },
  {
   "cell_type": "code",
   "execution_count": 2,
   "metadata": {},
   "outputs": [],
   "source": [
    "def tvb_K21_fitting(k21, Go, file):\n",
    "    connectivity.speed = np.array([10.])\n",
    "    sim = simulator.Simulator(\n",
    "        model=ReducedSetHindmarshRose(K21=np.array([k21])), \n",
    "        connectivity=connectivity.Connectivity.from_file(file),                      \n",
    "        coupling=coupling.Linear(a=np.array([Go])),\n",
    "        simulation_length=1e3*416,\n",
    "        integrator=integrators.HeunStochastic(dt=0.01220703125, noise=noise.Additive(nsig=np.array([1.0]), ntau=0.0,\n",
    "                                                                                    random_stream=np.random.RandomState(seed=42))),\n",
    "        monitors=(\n",
    "        monitors.TemporalAverage(period=1.),\n",
    "        monitors.Bold(hrf_kernel = equations.Gamma(), period=2000.),\n",
    "        monitors.ProgressLogger(period=1e2)\n",
    "        ))\n",
    "    sim.configure()\n",
    "    (tavg_time, tavg_data), (raw_time, raw_data),_ = sim.run()\n",
    "    return raw_data"
   ]
  },
  {
   "cell_type": "code",
   "execution_count": 3,
   "metadata": {},
   "outputs": [
    {
     "name": "stdout",
     "output_type": "stream",
     "text": [
      "Index(['caseid',  'group',     'Go',      0.0,      0.1,      0.2,      0.3,\n",
      "            0.4,      0.5,      0.6,      0.7,      0.8,      0.9,      1.0,\n",
      "            1.1,      1.2,      1.3,      1.4,      1.5,      1.6,      1.7,\n",
      "            1.8,      1.9,      2.0,      2.1,      2.2,      2.3,      2.4,\n",
      "            2.5,      2.6,      2.7,      2.8,      2.9],\n",
      "      dtype='object')\n"
     ]
    }
   ],
   "source": [
    "K21_range = np.arange(0.0, 3.0, 0.1)\n",
    "K21_range = [np.round(k21,1) for k21 in K21_range]\n",
    "\n",
    "corr_df = pd.DataFrame(columns = ['caseid', 'group', 'Go', *K21_range])\n",
    "print(corr_df.columns)"
   ]
  },
  {
   "cell_type": "code",
   "execution_count": 4,
   "metadata": {},
   "outputs": [
    {
     "name": "stdout",
     "output_type": "stream",
     "text": [
      "WARNING  File 'average_orientations' not found in ZIP.\n",
      "WARNING  File 'cortical' not found in ZIP.\n",
      "WARNING  File 'hemispheres' not found in ZIP.\n",
      "WARNING  File 'areas' not found in ZIP.\n"
     ]
    },
    {
     "ename": "KeyError",
     "evalue": "'factorial'",
     "output_type": "error",
     "traceback": [
      "\u001b[0;31m---------------------------------------------------------------------------\u001b[0m",
      "\u001b[0;31mKeyError\u001b[0m                                  Traceback (most recent call last)",
      "File \u001b[0;32m~/miniconda3/envs/tvbenv/lib/python3.10/site-packages/numexpr/necompiler.py:760\u001b[0m, in \u001b[0;36mgetArguments\u001b[0;34m(names, local_dict, global_dict, _frame_depth)\u001b[0m\n\u001b[1;32m    759\u001b[0m \u001b[38;5;28;01mtry\u001b[39;00m:\n\u001b[0;32m--> 760\u001b[0m     a \u001b[38;5;241m=\u001b[39m \u001b[43mlocal_dict\u001b[49m\u001b[43m[\u001b[49m\u001b[43mname\u001b[49m\u001b[43m]\u001b[49m\n\u001b[1;32m    761\u001b[0m \u001b[38;5;28;01mexcept\u001b[39;00m \u001b[38;5;167;01mKeyError\u001b[39;00m:\n",
      "\u001b[0;31mKeyError\u001b[0m: 'factorial'",
      "\nDuring handling of the above exception, another exception occurred:\n",
      "\u001b[0;31mKeyError\u001b[0m                                  Traceback (most recent call last)",
      "Cell \u001b[0;32mIn[4], line 20\u001b[0m\n\u001b[1;32m     16\u001b[0m K21 \u001b[38;5;241m=\u001b[39m np\u001b[38;5;241m.\u001b[39mround(K21, \u001b[38;5;241m1\u001b[39m)\n\u001b[1;32m     17\u001b[0m file \u001b[38;5;241m=\u001b[39m pjoin(connectome_dir, grp, case \u001b[38;5;241m+\u001b[39m\u001b[38;5;124m'\u001b[39m\u001b[38;5;124m.zip\u001b[39m\u001b[38;5;124m'\u001b[39m)\n\u001b[0;32m---> 20\u001b[0m raw_data \u001b[38;5;241m=\u001b[39m \u001b[43mtvb_K21_fitting\u001b[49m\u001b[43m(\u001b[49m\u001b[43mK21\u001b[49m\u001b[43m,\u001b[49m\u001b[43m \u001b[49m\u001b[43mgo\u001b[49m\u001b[43m,\u001b[49m\u001b[43m \u001b[49m\u001b[43mfile\u001b[49m\u001b[43m)\u001b[49m\n\u001b[1;32m     21\u001b[0m raw_data_mean \u001b[38;5;241m=\u001b[39m np\u001b[38;5;241m.\u001b[39mmean(raw_data, axis\u001b[38;5;241m=\u001b[39m\u001b[38;5;241m3\u001b[39m)\n\u001b[1;32m     22\u001b[0m \u001b[38;5;66;03m# calculate correlation of the matrix\u001b[39;00m\n",
      "Cell \u001b[0;32mIn[2], line 15\u001b[0m, in \u001b[0;36mtvb_K21_fitting\u001b[0;34m(k21, Go, file)\u001b[0m\n\u001b[1;32m      2\u001b[0m connectivity\u001b[38;5;241m.\u001b[39mspeed \u001b[38;5;241m=\u001b[39m np\u001b[38;5;241m.\u001b[39marray([\u001b[38;5;241m10.\u001b[39m])\n\u001b[1;32m      3\u001b[0m sim \u001b[38;5;241m=\u001b[39m simulator\u001b[38;5;241m.\u001b[39mSimulator(\n\u001b[1;32m      4\u001b[0m     model\u001b[38;5;241m=\u001b[39mReducedSetHindmarshRose(K21\u001b[38;5;241m=\u001b[39mnp\u001b[38;5;241m.\u001b[39marray([k21])), \n\u001b[1;32m      5\u001b[0m     connectivity\u001b[38;5;241m=\u001b[39mconnectivity\u001b[38;5;241m.\u001b[39mConnectivity\u001b[38;5;241m.\u001b[39mfrom_file(file),                      \n\u001b[0;32m   (...)\u001b[0m\n\u001b[1;32m     13\u001b[0m     monitors\u001b[38;5;241m.\u001b[39mProgressLogger(period\u001b[38;5;241m=\u001b[39m\u001b[38;5;241m1e2\u001b[39m)\n\u001b[1;32m     14\u001b[0m     ))\n\u001b[0;32m---> 15\u001b[0m \u001b[43msim\u001b[49m\u001b[38;5;241;43m.\u001b[39;49m\u001b[43mconfigure\u001b[49m\u001b[43m(\u001b[49m\u001b[43m)\u001b[49m\n\u001b[1;32m     16\u001b[0m (tavg_time, tavg_data), (raw_time, raw_data),_ \u001b[38;5;241m=\u001b[39m sim\u001b[38;5;241m.\u001b[39mrun()\n\u001b[1;32m     17\u001b[0m \u001b[38;5;28;01mreturn\u001b[39;00m raw_data\n",
      "File \u001b[0;32m~/miniconda3/envs/tvbenv/lib/python3.10/site-packages/tvb/simulator/simulator.py:272\u001b[0m, in \u001b[0;36mSimulator.configure\u001b[0;34m(self, full_configure)\u001b[0m\n\u001b[1;32m    270\u001b[0m \u001b[38;5;28mself\u001b[39m\u001b[38;5;241m.\u001b[39m_configure_history()\n\u001b[1;32m    271\u001b[0m \u001b[38;5;66;03m# Configure Monitors to work with selected Model, etc...\u001b[39;00m\n\u001b[0;32m--> 272\u001b[0m \u001b[38;5;28;43mself\u001b[39;49m\u001b[38;5;241;43m.\u001b[39;49m\u001b[43m_configure_monitors\u001b[49m\u001b[43m(\u001b[49m\u001b[43m)\u001b[49m\n\u001b[1;32m    273\u001b[0m \u001b[38;5;66;03m# Estimate of memory usage.\u001b[39;00m\n\u001b[1;32m    274\u001b[0m \u001b[38;5;28mself\u001b[39m\u001b[38;5;241m.\u001b[39m_census_memory_requirement()\n",
      "File \u001b[0;32m~/miniconda3/envs/tvbenv/lib/python3.10/site-packages/tvb/simulator/simulator.py:433\u001b[0m, in \u001b[0;36mSimulator._configure_monitors\u001b[0;34m(self)\u001b[0m\n\u001b[1;32m    431\u001b[0m \u001b[38;5;66;03m# Configure monitors\u001b[39;00m\n\u001b[1;32m    432\u001b[0m \u001b[38;5;28;01mfor\u001b[39;00m monitor \u001b[38;5;129;01min\u001b[39;00m \u001b[38;5;28mself\u001b[39m\u001b[38;5;241m.\u001b[39mmonitors:\n\u001b[0;32m--> 433\u001b[0m     \u001b[43mmonitor\u001b[49m\u001b[38;5;241;43m.\u001b[39;49m\u001b[43mconfig_for_sim\u001b[49m\u001b[43m(\u001b[49m\u001b[38;5;28;43mself\u001b[39;49m\u001b[43m)\u001b[49m\n",
      "File \u001b[0;32m~/miniconda3/envs/tvbenv/lib/python3.10/site-packages/tvb/simulator/monitors.py:940\u001b[0m, in \u001b[0;36mBold.config_for_sim\u001b[0;34m(self, simulator)\u001b[0m\n\u001b[1;32m    939\u001b[0m \u001b[38;5;28;01mdef\u001b[39;00m \u001b[38;5;21mconfig_for_sim\u001b[39m(\u001b[38;5;28mself\u001b[39m, simulator):\n\u001b[0;32m--> 940\u001b[0m     \u001b[38;5;28;43msuper\u001b[39;49m\u001b[43m(\u001b[49m\u001b[43mBold\u001b[49m\u001b[43m,\u001b[49m\u001b[43m \u001b[49m\u001b[38;5;28;43mself\u001b[39;49m\u001b[43m)\u001b[49m\u001b[38;5;241;43m.\u001b[39;49m\u001b[43mconfig_for_sim\u001b[49m\u001b[43m(\u001b[49m\u001b[43msimulator\u001b[49m\u001b[43m)\u001b[49m\n",
      "File \u001b[0;32m~/miniconda3/envs/tvbenv/lib/python3.10/site-packages/tvb/simulator/monitors.py:119\u001b[0m, in \u001b[0;36mMonitor.config_for_sim\u001b[0;34m(self, simulator)\u001b[0m\n\u001b[1;32m    108\u001b[0m \u001b[38;5;250m\u001b[39m\u001b[38;5;124;03m\"\"\"Configure monitor for given simulator.\u001b[39;00m\n\u001b[1;32m    109\u001b[0m \n\u001b[1;32m    110\u001b[0m \u001b[38;5;124;03mGrab the Simulator's integration step size. Set the monitor's variables\u001b[39;00m\n\u001b[0;32m   (...)\u001b[0m\n\u001b[1;32m    116\u001b[0m \n\u001b[1;32m    117\u001b[0m \u001b[38;5;124;03m\"\"\"\u001b[39;00m\n\u001b[1;32m    118\u001b[0m \u001b[38;5;28mself\u001b[39m\u001b[38;5;241m.\u001b[39m_config_vois(simulator)\n\u001b[0;32m--> 119\u001b[0m \u001b[38;5;28;43mself\u001b[39;49m\u001b[38;5;241;43m.\u001b[39;49m\u001b[43m_config_time\u001b[49m\u001b[43m(\u001b[49m\u001b[43msimulator\u001b[49m\u001b[43m)\u001b[49m\n",
      "File \u001b[0;32m~/miniconda3/envs/tvbenv/lib/python3.10/site-packages/tvb/simulator/monitors.py:930\u001b[0m, in \u001b[0;36mBold._config_time\u001b[0;34m(self, simulator)\u001b[0m\n\u001b[1;32m    928\u001b[0m \u001b[38;5;28;01mdef\u001b[39;00m \u001b[38;5;21m_config_time\u001b[39m(\u001b[38;5;28mself\u001b[39m, simulator):\n\u001b[1;32m    929\u001b[0m     \u001b[38;5;28msuper\u001b[39m(Bold, \u001b[38;5;28mself\u001b[39m)\u001b[38;5;241m.\u001b[39m_config_time(simulator)\n\u001b[0;32m--> 930\u001b[0m     \u001b[38;5;28;43mself\u001b[39;49m\u001b[38;5;241;43m.\u001b[39;49m\u001b[43mcompute_hrf\u001b[49m\u001b[43m(\u001b[49m\u001b[43m)\u001b[49m\n\u001b[1;32m    931\u001b[0m     sample_shape \u001b[38;5;241m=\u001b[39m \u001b[38;5;28mself\u001b[39m\u001b[38;5;241m.\u001b[39mvoi\u001b[38;5;241m.\u001b[39mshape[\u001b[38;5;241m0\u001b[39m], simulator\u001b[38;5;241m.\u001b[39mnumber_of_nodes, simulator\u001b[38;5;241m.\u001b[39mmodel\u001b[38;5;241m.\u001b[39mnumber_of_modes\n\u001b[1;32m    932\u001b[0m     \u001b[38;5;28mself\u001b[39m\u001b[38;5;241m.\u001b[39m_interim_stock \u001b[38;5;241m=\u001b[39m numpy\u001b[38;5;241m.\u001b[39mzeros((\u001b[38;5;28mself\u001b[39m\u001b[38;5;241m.\u001b[39m_interim_istep,) \u001b[38;5;241m+\u001b[39m sample_shape)\n",
      "File \u001b[0;32m~/miniconda3/envs/tvbenv/lib/python3.10/site-packages/tvb/simulator/monitors.py:918\u001b[0m, in \u001b[0;36mBold.compute_hrf\u001b[0;34m(self)\u001b[0m\n\u001b[1;32m    916\u001b[0m \u001b[38;5;28mself\u001b[39m\u001b[38;5;241m.\u001b[39mlog\u001b[38;5;241m.\u001b[39mdebug(\u001b[38;5;124m\"\u001b[39m\u001b[38;5;124mBold requires \u001b[39m\u001b[38;5;132;01m%d\u001b[39;00m\u001b[38;5;124m steps for HRF kernel convolution\u001b[39m\u001b[38;5;124m\"\u001b[39m, \u001b[38;5;28mself\u001b[39m\u001b[38;5;241m.\u001b[39m_stock_steps)\n\u001b[1;32m    917\u001b[0m \u001b[38;5;66;03m# Compute the HRF kernel\u001b[39;00m\n\u001b[0;32m--> 918\u001b[0m G \u001b[38;5;241m=\u001b[39m \u001b[38;5;28;43mself\u001b[39;49m\u001b[38;5;241;43m.\u001b[39;49m\u001b[43mhrf_kernel\u001b[49m\u001b[38;5;241;43m.\u001b[39;49m\u001b[43mevaluate\u001b[49m\u001b[43m(\u001b[49m\u001b[38;5;28;43mself\u001b[39;49m\u001b[38;5;241;43m.\u001b[39;49m\u001b[43m_stock_time\u001b[49m\u001b[43m)\u001b[49m\n\u001b[1;32m    919\u001b[0m \u001b[38;5;66;03m# Reverse it, need it into the past for matrix-multiply of stock\u001b[39;00m\n\u001b[1;32m    920\u001b[0m G \u001b[38;5;241m=\u001b[39m G[::\u001b[38;5;241m-\u001b[39m\u001b[38;5;241m1\u001b[39m]\n",
      "File \u001b[0;32m~/miniconda3/envs/tvbenv/lib/python3.10/site-packages/tvb/datatypes/equations.py:426\u001b[0m, in \u001b[0;36mGamma.evaluate\u001b[0;34m(self, var)\u001b[0m\n\u001b[1;32m    423\u001b[0m     product \u001b[38;5;241m*\u001b[39m\u001b[38;5;241m=\u001b[39m i \u001b[38;5;241m+\u001b[39m \u001b[38;5;241m1\u001b[39m\n\u001b[1;32m    425\u001b[0m \u001b[38;5;28mself\u001b[39m\u001b[38;5;241m.\u001b[39mparameters[\u001b[38;5;124m\"\u001b[39m\u001b[38;5;124mfactorial\u001b[39m\u001b[38;5;124m\"\u001b[39m] \u001b[38;5;241m=\u001b[39m product\n\u001b[0;32m--> 426\u001b[0m _pattern \u001b[38;5;241m=\u001b[39m \u001b[43mRefBase\u001b[49m\u001b[38;5;241;43m.\u001b[39;49m\u001b[43mevaluate\u001b[49m\u001b[43m(\u001b[49m\u001b[38;5;28;43mself\u001b[39;49m\u001b[38;5;241;43m.\u001b[39;49m\u001b[43mequation\u001b[49m\u001b[43m,\u001b[49m\n\u001b[1;32m    427\u001b[0m \u001b[43m                                 \u001b[49m\u001b[43mglobal_dict\u001b[49m\u001b[38;5;241;43m=\u001b[39;49m\u001b[38;5;28;43mself\u001b[39;49m\u001b[38;5;241;43m.\u001b[39;49m\u001b[43mparameters\u001b[49m\u001b[43m)\u001b[49m\n\u001b[1;32m    428\u001b[0m _pattern \u001b[38;5;241m/\u001b[39m\u001b[38;5;241m=\u001b[39m \u001b[38;5;28mmax\u001b[39m(_pattern)\n\u001b[1;32m    429\u001b[0m _pattern \u001b[38;5;241m*\u001b[39m\u001b[38;5;241m=\u001b[39m \u001b[38;5;28mself\u001b[39m\u001b[38;5;241m.\u001b[39mparameters[\u001b[38;5;124m\"\u001b[39m\u001b[38;5;124ma\u001b[39m\u001b[38;5;124m\"\u001b[39m]\n",
      "File \u001b[0;32m~/miniconda3/envs/tvbenv/lib/python3.10/site-packages/numexpr/necompiler.py:973\u001b[0m, in \u001b[0;36mevaluate\u001b[0;34m(ex, local_dict, global_dict, out, order, casting, sanitize, _frame_depth, **kwargs)\u001b[0m\n\u001b[1;32m    969\u001b[0m e \u001b[38;5;241m=\u001b[39m validate(ex, local_dict\u001b[38;5;241m=\u001b[39mlocal_dict, global_dict\u001b[38;5;241m=\u001b[39mglobal_dict, \n\u001b[1;32m    970\u001b[0m              out\u001b[38;5;241m=\u001b[39mout, order\u001b[38;5;241m=\u001b[39morder, casting\u001b[38;5;241m=\u001b[39mcasting, \n\u001b[1;32m    971\u001b[0m              _frame_depth\u001b[38;5;241m=\u001b[39m_frame_depth, sanitize\u001b[38;5;241m=\u001b[39msanitize, \u001b[38;5;241m*\u001b[39m\u001b[38;5;241m*\u001b[39mkwargs)\n\u001b[1;32m    972\u001b[0m \u001b[38;5;28;01mif\u001b[39;00m e \u001b[38;5;129;01mis\u001b[39;00m \u001b[38;5;28;01mNone\u001b[39;00m:\n\u001b[0;32m--> 973\u001b[0m     \u001b[38;5;28;01mreturn\u001b[39;00m \u001b[43mre_evaluate\u001b[49m\u001b[43m(\u001b[49m\u001b[43mlocal_dict\u001b[49m\u001b[38;5;241;43m=\u001b[39;49m\u001b[43mlocal_dict\u001b[49m\u001b[43m,\u001b[49m\u001b[43m \u001b[49m\u001b[43m_frame_depth\u001b[49m\u001b[38;5;241;43m=\u001b[39;49m\u001b[43m_frame_depth\u001b[49m\u001b[43m)\u001b[49m\n\u001b[1;32m    974\u001b[0m \u001b[38;5;28;01melse\u001b[39;00m:\n\u001b[1;32m    975\u001b[0m     \u001b[38;5;28;01mraise\u001b[39;00m e\n",
      "File \u001b[0;32m~/miniconda3/envs/tvbenv/lib/python3.10/site-packages/numexpr/necompiler.py:1001\u001b[0m, in \u001b[0;36mre_evaluate\u001b[0;34m(local_dict, _frame_depth)\u001b[0m\n\u001b[1;32m    999\u001b[0m     \u001b[38;5;28;01mraise\u001b[39;00m \u001b[38;5;167;01mRuntimeError\u001b[39;00m(\u001b[38;5;124m\"\u001b[39m\u001b[38;5;124mA previous evaluate() execution was not found, please call `validate` or `evaluate` once before `re_evaluate`\u001b[39m\u001b[38;5;124m\"\u001b[39m)\n\u001b[1;32m   1000\u001b[0m argnames \u001b[38;5;241m=\u001b[39m _numexpr_last[\u001b[38;5;124m'\u001b[39m\u001b[38;5;124margnames\u001b[39m\u001b[38;5;124m'\u001b[39m]\n\u001b[0;32m-> 1001\u001b[0m args \u001b[38;5;241m=\u001b[39m \u001b[43mgetArguments\u001b[49m\u001b[43m(\u001b[49m\u001b[43margnames\u001b[49m\u001b[43m,\u001b[49m\u001b[43m \u001b[49m\u001b[43mlocal_dict\u001b[49m\u001b[43m,\u001b[49m\u001b[43m \u001b[49m\u001b[43m_frame_depth\u001b[49m\u001b[38;5;241;43m=\u001b[39;49m\u001b[43m_frame_depth\u001b[49m\u001b[43m)\u001b[49m\n\u001b[1;32m   1002\u001b[0m kwargs \u001b[38;5;241m=\u001b[39m _numexpr_last[\u001b[38;5;124m'\u001b[39m\u001b[38;5;124mkwargs\u001b[39m\u001b[38;5;124m'\u001b[39m]\n\u001b[1;32m   1003\u001b[0m \u001b[38;5;28;01mwith\u001b[39;00m evaluate_lock:\n",
      "File \u001b[0;32m~/miniconda3/envs/tvbenv/lib/python3.10/site-packages/numexpr/necompiler.py:762\u001b[0m, in \u001b[0;36mgetArguments\u001b[0;34m(names, local_dict, global_dict, _frame_depth)\u001b[0m\n\u001b[1;32m    760\u001b[0m             a \u001b[38;5;241m=\u001b[39m local_dict[name]\n\u001b[1;32m    761\u001b[0m         \u001b[38;5;28;01mexcept\u001b[39;00m \u001b[38;5;167;01mKeyError\u001b[39;00m:\n\u001b[0;32m--> 762\u001b[0m             a \u001b[38;5;241m=\u001b[39m \u001b[43mglobal_dict\u001b[49m\u001b[43m[\u001b[49m\u001b[43mname\u001b[49m\u001b[43m]\u001b[49m\n\u001b[1;32m    763\u001b[0m         arguments\u001b[38;5;241m.\u001b[39mappend(numpy\u001b[38;5;241m.\u001b[39masarray(a))\n\u001b[1;32m    764\u001b[0m \u001b[38;5;28;01mfinally\u001b[39;00m:\n\u001b[1;32m    765\u001b[0m     \u001b[38;5;66;03m# If we generated local_dict via an explicit reference to f_locals,\u001b[39;00m\n\u001b[1;32m    766\u001b[0m     \u001b[38;5;66;03m# clear the dict to prevent creating extra ref counts in the caller's scope\u001b[39;00m\n\u001b[1;32m    767\u001b[0m     \u001b[38;5;66;03m# See https://github.com/pydata/numexpr/issues/310\u001b[39;00m\n",
      "\u001b[0;31mKeyError\u001b[0m: 'factorial'"
     ]
    }
   ],
   "source": [
    "\n",
    "data_dir = '/Users/yat-lok/workspaces/data4project/'\n",
    "connectome_dir = pjoin(data_dir, 'lateralization/connectome/zip')\n",
    "ts_dir = pjoin(data_dir, 'lateralization/ts_fmri/fmri_AAL_16/')\n",
    "\n",
    "# read mega_table\n",
    "mega_table = pd.read_excel(pjoin(data_dir, 'mega_table.xlsx'), sheet_name='hodgepodge', skiprows=1)\n",
    "\n",
    "K21_range = np.arange(0.0, 3.0, 0.1)\n",
    "_K21_range = [np.round(k21,1) for k21 in K21_range]\n",
    "# create a dataframe to store the correlation by each K21\n",
    "corr_df = pd.DataFrame(columns = ['caseid', 'group', 'Go', *_K21_range])\n",
    "for case, grp, go in zip(mega_table['caseid'], mega_table['group'], mega_table['Go']):\n",
    "    K21_corr = []\n",
    "    \n",
    "    for K21 in K21_range:\n",
    "        K21 = np.round(K21, 1)\n",
    "        file = pjoin(connectome_dir, grp, case +'.zip')\n",
    "\n",
    "\n",
    "        raw_data = tvb_K21_fitting(K21, go, file)\n",
    "        raw_data_mean = np.mean(raw_data, axis=3)\n",
    "        # calculate correlation of the matrix\n",
    "        s_corr = raw_data_mean[:,0,:].corr()\n",
    "\n",
    "        # read mat file\n",
    "        mat = scipy.io.loadmat(pjoin(ts_dir, grp, case,'.mat'))\n",
    "        roi_signal = mat['ROISignal']\n",
    "        df_roi = pd.DataFrame(roi_signal, columns = ['aCNG-L', 'aCNG-R','mCNG-L','mCNG-R','pCNG-L','pCNG-R', 'HIP-L','HIP-R','PHG-L','PHG-R','AMY-L','AMY-R', 'sTEMp-L','sTEMP-R','mTEMp-L','mTEMp-R'])\n",
    "        e_corr = df_roi.corr()\n",
    "\n",
    "        # take the top triangle of the matrix using triu\n",
    "        e_corr = np.triu(e_corr, k=1)\n",
    "        s_corr = np.triu(s_corr, k=1)\n",
    "\n",
    "        # calculate the correlation of the two matrices\n",
    "        s_corr = s_corr.flatten()\n",
    "        e_corr = e_corr.flatten()\n",
    "        # pearson correlation of two flattened matrices\n",
    "        corr_pearson = np.corrcoef(s_corr, e_corr)[0,1]\n",
    "        K21_corr.append(corr_pearson)\n",
    "    corr_df.loc[len(corr_df)] = [case, grp, go, *K21_corr]\n",
    "\n",
    "    plt.plot(K21_range, K21_corr)\n",
    "    plt.show()\n"
   ]
  }
 ],
 "metadata": {
  "kernelspec": {
   "display_name": "tvbenv",
   "language": "python",
   "name": "python3"
  },
  "language_info": {
   "codemirror_mode": {
    "name": "ipython",
    "version": 3
   },
   "file_extension": ".py",
   "mimetype": "text/x-python",
   "name": "python",
   "nbconvert_exporter": "python",
   "pygments_lexer": "ipython3",
   "version": "3.10.14"
  }
 },
 "nbformat": 4,
 "nbformat_minor": 2
}
