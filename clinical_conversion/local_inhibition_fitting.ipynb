{
 "cells": [
  {
   "cell_type": "code",
   "execution_count": 1,
   "metadata": {},
   "outputs": [
    {
     "name": "stderr",
     "output_type": "stream",
     "text": [
      "/Users/yilewang/miniconda3/envs/tvbenv/lib/python3.11/site-packages/tvb/datatypes/surfaces.py:60: UserWarning: Geodesic distance module is unavailable; some functionality for surfaces will be unavailable.\n",
      "  warnings.warn(msg)\n"
     ]
    }
   ],
   "source": [
    "import os\n",
    "from tvb.simulator.lab import *\n",
    "import numpy as np\n",
    "import seaborn\n",
    "import matplotlib.pyplot as plt\n",
    "import pandas as pd\n",
    "import scipy.io\n",
    "LOG = get_logger('demo')\n",
    "import pickle as cPickle\n",
    "from tvb.simulator.models.stefanescu_jirsa import ReducedSetHindmarshRose\n",
    "from os.path import join as pjoin"
   ]
  },
  {
   "cell_type": "markdown",
   "metadata": {},
   "source": [
    "### General workflow of data analyses\n",
    "\n",
    "1. load fmri simulation\n",
    "2. calculate the fc then calculate the correlation between simulated fc and empirical fc\n",
    "3. save the correlation coefficient then plot the correlation trajectory for each participant\n",
    "4. visualize the results"
   ]
  },
  {
   "cell_type": "code",
   "execution_count": null,
   "metadata": {},
   "outputs": [],
   "source": [
    "base_dir = \"/Users/yilewang/Desktop/\"\n",
    "data_dir = pjoin(base_dir, \"local_inhibition\")\n",
    "\n",
    "eFC_dir = \"/Users/yilewang/workspaces/data4project/lateralization/ts_fmri/\"\n",
    "\n",
    "def FC_fitting(group, caseid, K21, dir):\n",
    "    subj_dir = pjoin(dir, group, caseid+'.csv')\n",
    "    s_ts = pd.read_csv(subj_dir)\n",
    "    # calculate the simulated FC\n",
    "    s_fc = s_ts.corr()\n",
    "    # compare it to the empirical FC\n",
    "    mat = scipy.io.loadmat(pjoin(eFC_dir, group+\"-TS\", \"ROISignals_\"+caseid+'.mat'))\n",
    "    e_ts = mat['ROISignals']\n",
    "    e_fc = e_ts.corr()\n",
    "    # vectorize the lower triangle of the matrix\n",
    "    s_fc_vec = np.tril(s_fc, k=-1).reshape(-1)\n",
    "    e_fc_vec = np.tril(e_fc, k=-1).reshape(-1)\n",
    "    # calculate the correlation coefficient\n",
    "    corr = np.corrcoef(s_fc_vec, e_fc_vec)[0,1]\n",
    "# iterate then I can have a plot for inidividuals."
   ]
  }
 ],
 "metadata": {
  "kernelspec": {
   "display_name": "tvbenv",
   "language": "python",
   "name": "python3"
  },
  "language_info": {
   "codemirror_mode": {
    "name": "ipython",
    "version": 3
   },
   "file_extension": ".py",
   "mimetype": "text/x-python",
   "name": "python",
   "nbconvert_exporter": "python",
   "pygments_lexer": "ipython3",
   "version": "3.11.4"
  },
  "orig_nbformat": 4
 },
 "nbformat": 4,
 "nbformat_minor": 2
}
