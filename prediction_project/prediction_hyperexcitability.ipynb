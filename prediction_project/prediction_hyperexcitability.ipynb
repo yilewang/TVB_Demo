{
 "cells": [
  {
   "cell_type": "code",
   "execution_count": 2,
   "metadata": {},
   "outputs": [],
   "source": [
    "import seaborn as sns\n",
    "import matplotlib.pyplot as plt\n",
    "import pandas as pd\n",
    "from adjustText import adjust_text\n",
    "import numpy as np\n",
    "from scipy import stats\n",
    "import scipy"
   ]
  },
  {
   "cell_type": "code",
   "execution_count": 3,
   "metadata": {},
   "outputs": [],
   "source": [
    "colors = [\"#66CDAA\",\"#4682B4\",\"#AB63FA\",\"#FFA15A\"]"
   ]
  },
  {
   "cell_type": "code",
   "execution_count": 64,
   "metadata": {},
   "outputs": [],
   "source": [
    "# read file\n",
    "df_zscore = pd.read_excel(\"/Users/yilewang/workspaces/data4project/prediction_project/prediction_data_zscores.xlsx\")"
   ]
  },
  {
   "cell_type": "code",
   "execution_count": 102,
   "metadata": {},
   "outputs": [],
   "source": [
    "# for each variable, find the one larger than 1.6.\n",
    "df_zscore_hyper = df_zscore.copy()\n",
    "upper_bound = 1.6 # 90 percentile\n",
    "# ignition\n",
    "for i in range(2, 18):\n",
    "    df_zscore_hyper[df_zscore_hyper.columns[i]] = df_zscore[df_zscore.columns[i]].apply(lambda x: 1 if x > upper_bound else 0)\n",
    "# TVB parameters and simulation\n",
    "for i in range(18, 34):\n",
    "    df_zscore_hyper[df_zscore_hyper.columns[i]] = df_zscore[df_zscore.columns[i]].apply(lambda x: 1 if x > upper_bound else 0)\n",
    "# Lateralization Index\n",
    "for i in range(34, 38):\n",
    "    df_zscore_hyper[df_zscore_hyper.columns[i]] = df_zscore[df_zscore.columns[i]].apply(lambda x: 1 if x < -1*upper_bound else 0)\n",
    "# structural\n",
    "for i in range(38, 64):\n",
    "    df_zscore_hyper[df_zscore_hyper.columns[i]] = df_zscore[df_zscore.columns[i]].apply(lambda x: 1 if x > upper_bound else 0)\n",
    "\n",
    "df_zscore_hyper[\"ignition_sum\"] = df_zscore_hyper.iloc[:,2:18].sum(axis=1)\n",
    "df_zscore_hyper[\"sc_sum\"] = df_zscore_hyper.iloc[:,38:64].sum(axis=1)\n",
    "df_zscore_hyper[\"rest_sum\"] = df_zscore_hyper.iloc[:,18:38].sum(axis=1)\n",
    "df_zscore_hyper['subgroups'] = df_zscore_hyper['rest_sum']+ df_zscore_hyper['sc_sum'].apply(lambda x: 1 if x > 0 else 0) + df_zscore_hyper['ignition_sum'].apply(lambda x: 1 if x > 0 else 0)"
   ]
  },
  {
   "cell_type": "code",
   "execution_count": 103,
   "metadata": {},
   "outputs": [
    {
     "data": {
      "text/html": [
       "<div>\n",
       "<style scoped>\n",
       "    .dataframe tbody tr th:only-of-type {\n",
       "        vertical-align: middle;\n",
       "    }\n",
       "\n",
       "    .dataframe tbody tr th {\n",
       "        vertical-align: top;\n",
       "    }\n",
       "\n",
       "    .dataframe thead th {\n",
       "        text-align: right;\n",
       "    }\n",
       "</style>\n",
       "<table border=\"1\" class=\"dataframe\">\n",
       "  <thead>\n",
       "    <tr style=\"text-align: right;\">\n",
       "      <th></th>\n",
       "      <th>caseid</th>\n",
       "      <th>subgroups</th>\n",
       "    </tr>\n",
       "  </thead>\n",
       "  <tbody>\n",
       "    <tr>\n",
       "      <th>26</th>\n",
       "      <td>0578A</td>\n",
       "      <td>0</td>\n",
       "    </tr>\n",
       "    <tr>\n",
       "      <th>27</th>\n",
       "      <td>0720A</td>\n",
       "      <td>4</td>\n",
       "    </tr>\n",
       "    <tr>\n",
       "      <th>28</th>\n",
       "      <td>0743A</td>\n",
       "      <td>0</td>\n",
       "    </tr>\n",
       "    <tr>\n",
       "      <th>29</th>\n",
       "      <td>1070A</td>\n",
       "      <td>0</td>\n",
       "    </tr>\n",
       "    <tr>\n",
       "      <th>30</th>\n",
       "      <td>1428A</td>\n",
       "      <td>3</td>\n",
       "    </tr>\n",
       "    <tr>\n",
       "      <th>31</th>\n",
       "      <td>1669A</td>\n",
       "      <td>3</td>\n",
       "    </tr>\n",
       "    <tr>\n",
       "      <th>32</th>\n",
       "      <td>1775A</td>\n",
       "      <td>3</td>\n",
       "    </tr>\n",
       "    <tr>\n",
       "      <th>33</th>\n",
       "      <td>2019A</td>\n",
       "      <td>1</td>\n",
       "    </tr>\n",
       "    <tr>\n",
       "      <th>34</th>\n",
       "      <td>2050A</td>\n",
       "      <td>2</td>\n",
       "    </tr>\n",
       "    <tr>\n",
       "      <th>35</th>\n",
       "      <td>2166A</td>\n",
       "      <td>1</td>\n",
       "    </tr>\n",
       "    <tr>\n",
       "      <th>36</th>\n",
       "      <td>2385A</td>\n",
       "      <td>4</td>\n",
       "    </tr>\n",
       "    <tr>\n",
       "      <th>37</th>\n",
       "      <td>2391A</td>\n",
       "      <td>2</td>\n",
       "    </tr>\n",
       "    <tr>\n",
       "      <th>38</th>\n",
       "      <td>2431A</td>\n",
       "      <td>1</td>\n",
       "    </tr>\n",
       "    <tr>\n",
       "      <th>39</th>\n",
       "      <td>3117A</td>\n",
       "      <td>1</td>\n",
       "    </tr>\n",
       "    <tr>\n",
       "      <th>40</th>\n",
       "      <td>3465A</td>\n",
       "      <td>0</td>\n",
       "    </tr>\n",
       "    <tr>\n",
       "      <th>41</th>\n",
       "      <td>3753A</td>\n",
       "      <td>2</td>\n",
       "    </tr>\n",
       "    <tr>\n",
       "      <th>42</th>\n",
       "      <td>4077A</td>\n",
       "      <td>0</td>\n",
       "    </tr>\n",
       "    <tr>\n",
       "      <th>43</th>\n",
       "      <td>4216A</td>\n",
       "      <td>1</td>\n",
       "    </tr>\n",
       "    <tr>\n",
       "      <th>44</th>\n",
       "      <td>4547A</td>\n",
       "      <td>0</td>\n",
       "    </tr>\n",
       "    <tr>\n",
       "      <th>45</th>\n",
       "      <td>4602A</td>\n",
       "      <td>3</td>\n",
       "    </tr>\n",
       "    <tr>\n",
       "      <th>46</th>\n",
       "      <td>4628A</td>\n",
       "      <td>3</td>\n",
       "    </tr>\n",
       "    <tr>\n",
       "      <th>47</th>\n",
       "      <td>4783A</td>\n",
       "      <td>1</td>\n",
       "    </tr>\n",
       "    <tr>\n",
       "      <th>48</th>\n",
       "      <td>5732A</td>\n",
       "      <td>1</td>\n",
       "    </tr>\n",
       "    <tr>\n",
       "      <th>49</th>\n",
       "      <td>5781A</td>\n",
       "      <td>2</td>\n",
       "    </tr>\n",
       "    <tr>\n",
       "      <th>50</th>\n",
       "      <td>5914A</td>\n",
       "      <td>1</td>\n",
       "    </tr>\n",
       "    <tr>\n",
       "      <th>51</th>\n",
       "      <td>6516A</td>\n",
       "      <td>2</td>\n",
       "    </tr>\n",
       "    <tr>\n",
       "      <th>52</th>\n",
       "      <td>7446A</td>\n",
       "      <td>0</td>\n",
       "    </tr>\n",
       "    <tr>\n",
       "      <th>53</th>\n",
       "      <td>7589A</td>\n",
       "      <td>1</td>\n",
       "    </tr>\n",
       "    <tr>\n",
       "      <th>54</th>\n",
       "      <td>7827A</td>\n",
       "      <td>1</td>\n",
       "    </tr>\n",
       "    <tr>\n",
       "      <th>55</th>\n",
       "      <td>7841A</td>\n",
       "      <td>1</td>\n",
       "    </tr>\n",
       "    <tr>\n",
       "      <th>56</th>\n",
       "      <td>7854A</td>\n",
       "      <td>1</td>\n",
       "    </tr>\n",
       "    <tr>\n",
       "      <th>57</th>\n",
       "      <td>7873A</td>\n",
       "      <td>1</td>\n",
       "    </tr>\n",
       "    <tr>\n",
       "      <th>58</th>\n",
       "      <td>8879A</td>\n",
       "      <td>2</td>\n",
       "    </tr>\n",
       "    <tr>\n",
       "      <th>59</th>\n",
       "      <td>9034A</td>\n",
       "      <td>1</td>\n",
       "    </tr>\n",
       "    <tr>\n",
       "      <th>60</th>\n",
       "      <td>9270A</td>\n",
       "      <td>2</td>\n",
       "    </tr>\n",
       "  </tbody>\n",
       "</table>\n",
       "</div>"
      ],
      "text/plain": [
       "   caseid  subgroups\n",
       "26  0578A          0\n",
       "27  0720A          4\n",
       "28  0743A          0\n",
       "29  1070A          0\n",
       "30  1428A          3\n",
       "31  1669A          3\n",
       "32  1775A          3\n",
       "33  2019A          1\n",
       "34  2050A          2\n",
       "35  2166A          1\n",
       "36  2385A          4\n",
       "37  2391A          2\n",
       "38  2431A          1\n",
       "39  3117A          1\n",
       "40  3465A          0\n",
       "41  3753A          2\n",
       "42  4077A          0\n",
       "43  4216A          1\n",
       "44  4547A          0\n",
       "45  4602A          3\n",
       "46  4628A          3\n",
       "47  4783A          1\n",
       "48  5732A          1\n",
       "49  5781A          2\n",
       "50  5914A          1\n",
       "51  6516A          2\n",
       "52  7446A          0\n",
       "53  7589A          1\n",
       "54  7827A          1\n",
       "55  7841A          1\n",
       "56  7854A          1\n",
       "57  7873A          1\n",
       "58  8879A          2\n",
       "59  9034A          1\n",
       "60  9270A          2"
      ]
     },
     "execution_count": 103,
     "metadata": {},
     "output_type": "execute_result"
    }
   ],
   "source": [
    "# for i in range(len(df_zscore_hyper.columns)):\n",
    "#     print(i, df_zscore_hyper.columns[i])\n",
    "df_zscore_hyper[df_zscore_hyper['group'] == \"MCI\"][['caseid', 'subgroups']]"
   ]
  },
  {
   "cell_type": "markdown",
   "metadata": {},
   "source": [
    "# MCI"
   ]
  },
  {
   "cell_type": "code",
   "execution_count": 87,
   "metadata": {},
   "outputs": [],
   "source": [
    "predicted_converters_MCI = ['0720A',\n",
    "'1669A',\n",
    "'2166A',\n",
    "'3117A',\n",
    "'4628A',\n",
    "'5914A',\n",
    "'6516A',\n",
    "'7873A',\n",
    "'2019A',\n",
    "'2050A',\n",
    "'4216A']"
   ]
  },
  {
   "cell_type": "code",
   "execution_count": 88,
   "metadata": {},
   "outputs": [],
   "source": [
    "def get_overlap(pd_df, predicted_converters= predicted_converters_MCI):\n",
    "    # get the overlap between predicted converters and the subgroups\n",
    "    for case in pd_df.caseid:\n",
    "        if case in predicted_converters:\n",
    "            print(case)"
   ]
  },
  {
   "cell_type": "code",
   "execution_count": 104,
   "metadata": {},
   "outputs": [
    {
     "name": "stdout",
     "output_type": "stream",
     "text": [
      "   caseid  subgroups\n",
      "27  0720A          4\n",
      "36  2385A          4\n",
      "0720A\n"
     ]
    },
    {
     "name": "stderr",
     "output_type": "stream",
     "text": [
      "/var/folders/3n/xjq3mj2x4fg20l17q5mydc1c0000gn/T/ipykernel_35316/3497243567.py:1: UserWarning: Boolean Series key will be reindexed to match DataFrame index.\n",
      "  high_hyperexcitability = df_zscore_hyper[df_zscore_hyper['group'] == 'MCI'][df_zscore_hyper['subgroups'] >= 4][['caseid', 'subgroups']]\n"
     ]
    }
   ],
   "source": [
    "high_hyperexcitability = df_zscore_hyper[df_zscore_hyper['group'] == 'MCI'][df_zscore_hyper['subgroups'] >= 4][['caseid', 'subgroups']]\n",
    "print(high_hyperexcitability)\n",
    "get_overlap(high_hyperexcitability)"
   ]
  },
  {
   "cell_type": "code",
   "execution_count": 105,
   "metadata": {},
   "outputs": [
    {
     "name": "stdout",
     "output_type": "stream",
     "text": [
      "   caseid  subgroups\n",
      "30  1428A          3\n",
      "31  1669A          3\n",
      "32  1775A          3\n",
      "34  2050A          2\n",
      "37  2391A          2\n",
      "41  3753A          2\n",
      "45  4602A          3\n",
      "46  4628A          3\n",
      "49  5781A          2\n",
      "51  6516A          2\n",
      "58  8879A          2\n",
      "60  9270A          2\n",
      "1669A\n",
      "2050A\n",
      "4628A\n",
      "6516A\n"
     ]
    },
    {
     "name": "stderr",
     "output_type": "stream",
     "text": [
      "/var/folders/3n/xjq3mj2x4fg20l17q5mydc1c0000gn/T/ipykernel_35316/1772096863.py:1: UserWarning: Boolean Series key will be reindexed to match DataFrame index.\n",
      "  low_hyperexcitability = df_zscore_hyper[df_zscore_hyper['group'] == 'MCI'][(df_zscore_hyper['subgroups'] <= 3) & (df_zscore_hyper['subgroups'] > 1)][['caseid', 'subgroups']]\n"
     ]
    }
   ],
   "source": [
    "low_hyperexcitability = df_zscore_hyper[df_zscore_hyper['group'] == 'MCI'][(df_zscore_hyper['subgroups'] <= 3) & (df_zscore_hyper['subgroups'] > 1)][['caseid', 'subgroups']]\n",
    "print(low_hyperexcitability)\n",
    "get_overlap(low_hyperexcitability)"
   ]
  },
  {
   "cell_type": "code",
   "execution_count": 106,
   "metadata": {},
   "outputs": [
    {
     "name": "stdout",
     "output_type": "stream",
     "text": [
      "   caseid  subgroups\n",
      "26  0578A          0\n",
      "28  0743A          0\n",
      "29  1070A          0\n",
      "33  2019A          1\n",
      "35  2166A          1\n",
      "38  2431A          1\n",
      "39  3117A          1\n",
      "40  3465A          0\n",
      "42  4077A          0\n",
      "43  4216A          1\n",
      "44  4547A          0\n",
      "47  4783A          1\n",
      "48  5732A          1\n",
      "50  5914A          1\n",
      "52  7446A          0\n",
      "53  7589A          1\n",
      "54  7827A          1\n",
      "55  7841A          1\n",
      "56  7854A          1\n",
      "57  7873A          1\n",
      "59  9034A          1\n",
      "2019A\n",
      "2166A\n",
      "3117A\n",
      "4216A\n",
      "5914A\n",
      "7873A\n"
     ]
    },
    {
     "name": "stderr",
     "output_type": "stream",
     "text": [
      "/var/folders/3n/xjq3mj2x4fg20l17q5mydc1c0000gn/T/ipykernel_35316/3514401045.py:1: UserWarning: Boolean Series key will be reindexed to match DataFrame index.\n",
      "  non_hyperexcitability = df_zscore_hyper[df_zscore_hyper['group'] == 'MCI'][(df_zscore_hyper['subgroups'] <= 1)][['caseid', 'subgroups']]\n"
     ]
    }
   ],
   "source": [
    "non_hyperexcitability = df_zscore_hyper[df_zscore_hyper['group'] == 'MCI'][(df_zscore_hyper['subgroups'] <= 1)][['caseid', 'subgroups']]\n",
    "print(non_hyperexcitability)\n",
    "get_overlap(non_hyperexcitability)"
   ]
  },
  {
   "cell_type": "markdown",
   "metadata": {},
   "source": [
    "# NC"
   ]
  },
  {
   "cell_type": "code",
   "execution_count": 71,
   "metadata": {},
   "outputs": [],
   "source": [
    "predicted_converters_NC = ['0316A']"
   ]
  },
  {
   "cell_type": "code",
   "execution_count": 72,
   "metadata": {},
   "outputs": [
    {
     "name": "stdout",
     "output_type": "stream",
     "text": [
      "   caseid  subgroups\n",
      "11  0318A          3\n",
      "16  0591A          3\n",
      "21  1154A          3\n"
     ]
    },
    {
     "name": "stderr",
     "output_type": "stream",
     "text": [
      "/var/folders/3n/xjq3mj2x4fg20l17q5mydc1c0000gn/T/ipykernel_35316/2066057229.py:1: UserWarning: Boolean Series key will be reindexed to match DataFrame index.\n",
      "  print(df_zscore_hyper[df_zscore_hyper['group'] == 'NC'][df_zscore_hyper['subgroups'] >=3][['caseid', 'subgroups']])\n"
     ]
    }
   ],
   "source": [
    "print(df_zscore_hyper[df_zscore_hyper['group'] == 'NC'][df_zscore_hyper['subgroups'] >=3][['caseid', 'subgroups']])"
   ]
  },
  {
   "cell_type": "code",
   "execution_count": 73,
   "metadata": {},
   "outputs": [
    {
     "name": "stdout",
     "output_type": "stream",
     "text": [
      "   caseid  subgroups\n",
      "10  0316A          0\n",
      "12  0319A          1\n",
      "13  0423A          0\n",
      "14  0556A          1\n",
      "15  0587A          2\n",
      "17  0705A          1\n",
      "18  0795A          0\n",
      "19  0819A          0\n",
      "20  1014A          1\n",
      "22  1190A          0\n",
      "23  1242A          1\n",
      "24  1318A          0\n",
      "25  1624A          1\n"
     ]
    },
    {
     "name": "stderr",
     "output_type": "stream",
     "text": [
      "/var/folders/3n/xjq3mj2x4fg20l17q5mydc1c0000gn/T/ipykernel_35316/449812475.py:1: UserWarning: Boolean Series key will be reindexed to match DataFrame index.\n",
      "  print(df_zscore_hyper[df_zscore_hyper['group'] == 'NC'][df_zscore_hyper['subgroups'] < 3][['caseid', 'subgroups']])\n"
     ]
    }
   ],
   "source": [
    "print(df_zscore_hyper[df_zscore_hyper['group'] == 'NC'][df_zscore_hyper['subgroups'] < 3][['caseid', 'subgroups']])"
   ]
  }
 ],
 "metadata": {
  "kernelspec": {
   "display_name": "tvbenv",
   "language": "python",
   "name": "python3"
  },
  "language_info": {
   "codemirror_mode": {
    "name": "ipython",
    "version": 3
   },
   "file_extension": ".py",
   "mimetype": "text/x-python",
   "name": "python",
   "nbconvert_exporter": "python",
   "pygments_lexer": "ipython3",
   "version": "3.11.7"
  }
 },
 "nbformat": 4,
 "nbformat_minor": 2
}
