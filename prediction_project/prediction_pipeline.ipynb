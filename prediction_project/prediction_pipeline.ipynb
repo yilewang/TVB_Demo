{
 "cells": [
  {
   "cell_type": "code",
   "execution_count": 1,
   "metadata": {},
   "outputs": [],
   "source": [
    "import seaborn as sns\n",
    "import matplotlib.pyplot as plt\n",
    "import pandas as pd\n",
    "from adjustText import adjust_text\n",
    "import numpy as np\n",
    "from scipy import stats"
   ]
  },
  {
   "cell_type": "markdown",
   "metadata": {},
   "source": [
    "### Prediction Pipeline Steps\n",
    "- quadratic fitting: `polyfit`\n",
    "- transform the data to z-score\n",
    "- set up the higher boundary and lower boundary. higher is the highest value; lower is the highest value in SNC group\n",
    "- identify all the overshooting participants"
   ]
  },
  {
   "cell_type": "code",
   "execution_count": 2,
   "metadata": {},
   "outputs": [],
   "source": [
    "data = pd.read_excel('/Users/yilewang/workspaces/data4project/prediction_data.xlsx', sheet_name='main', skiprows=1)"
   ]
  },
  {
   "cell_type": "code",
   "execution_count": 34,
   "metadata": {},
   "outputs": [],
   "source": [
    "## Step 0. Define function\n",
    "def get_r_squared(x, y, degree=2):\n",
    "    # Calculate the polynomial\n",
    "    coefficients = np.polyfit(x, y, degree)\n",
    "    y_pred = np.polyval(coefficients, x)\n",
    "\n",
    "    # Calculate the R-squared value\n",
    "    ss_res = np.sum((y - y_pred) ** 2)\n",
    "    ss_tot = np.sum((y - np.mean(y)) ** 2)\n",
    "    r_squared = 1 - (ss_res / ss_tot)\n",
    "\n",
    "    return r_squared\n",
    "\n",
    "def get_z_scores(data):\n",
    "    return stats.zscore(data)\n",
    "\n",
    "def get_overshooter(data):\n",
    "    df_overshooter = pd.DataFrame({'group': data['group'], 'caseid': data['caseid']})\n",
    "    for i in data.columns[2:]:\n",
    "        # in pandas, get the highest value's index\n",
    "        max_index = data[i].idxmax()\n",
    "        # get the highest value's index in SNC group\n",
    "        max_index_SNC = data[data['group'] == 'SNC'][i].idxmax()\n",
    "        high_bound, low_bound = data[i][max_index], data[i][max_index_SNC]\n",
    "        # get the all the index between the high_bound and low_bound\n",
    "        overshooter = data[(data[i] <= high_bound) & (data[i] > low_bound)]['caseid']\n",
    "        df_overshooter[i] = df_overshooter['caseid'].apply(lambda x: 1 if x in overshooter.values else 0)\n",
    "    return df_overshooter\n",
    "\n",
    "def stripplot_get_coordinates(data, x_var, y_var):\n",
    "    # Demo dataset and apply some culling for visibility\n",
    "\n",
    "    # Create the stripplot\n",
    "    ax = sns.stripplot(x=x_var, y=y_var, data=data, jitter=True, dodge=True)\n",
    "\n",
    "    # Get the coordinates of the points\n",
    "    coordinates = []\n",
    "    for collection in ax.collections:\n",
    "        coordinates.extend(collection.get_offsets())\n",
    "    return np.array(coordinates)\n"
   ]
  },
  {
   "cell_type": "markdown",
   "metadata": {},
   "source": [
    "### Step1. get quadratic list"
   ]
  },
  {
   "cell_type": "code",
   "execution_count": 15,
   "metadata": {},
   "outputs": [
    {
     "name": "stdout",
     "output_type": "stream",
     "text": [
      "['ignition_mCNG-R', 'ignition_mCNG-L', 'ignition_pCNG-L', 'ignition_PHG-L', 'ignition_AMY-R', 'ignition_AMY-L', 'ignition_sTEMp-R', 'ignition_sTEMp-L', 'ignition_mTEMp-R', 'ignition_mTEMp-L', 'Go_Gc', 'K21', 'MC_aCNG', 'MC_mCNG', 'MC_pCNG', 'MC_PHG', 'MC_AMY', 'MC_sTEMp', 'cluster_4', 'pcgl_freq_gamma', 'pcgr_freq_gamma', 'pcgl_freq_theta', 'freq_gamma_over_theta', 'pcgl_amp_gamma', 'pcgr_amp_gamma', 'pcgl_amp_theta', 'LI_freq_gamma', 'LI_freq_theta', 'LI_amp_gamma', 'wdc_HIP_R', 'wdc_AMY_L', 'wdc_AMY_R', 'wdc_sTEMp_R', 'wdc_mTEMp_L', 'wdc_mTEMp_R', 'wdc_average']\n"
     ]
    }
   ],
   "source": [
    "x = [1,2,3,4]\n",
    "quadratic_list = []\n",
    "for i in data.columns[12:]:\n",
    "    # get groupmean \n",
    "    groupmean = data.groupby('group')[i].mean()\n",
    "    linear_fit = get_r_squared(x, groupmean.values, degree=1)\n",
    "    quadratic_fit = get_r_squared(x, groupmean.values, degree=2)\n",
    "    if linear_fit <0.9 and quadratic_fit > 0.9:\n",
    "        quadratic_list.append(i)\n",
    "print(quadratic_list)"
   ]
  },
  {
   "cell_type": "markdown",
   "metadata": {},
   "source": [
    "### Step2. boundary"
   ]
  },
  {
   "cell_type": "code",
   "execution_count": 37,
   "metadata": {},
   "outputs": [],
   "source": [
    "pd_quadratic = pd.concat([data['group'], data['caseid'], data[quadratic_list]], axis=1)\n",
    "pd_overshoot = get_overshooter(pd_quadratic)\n",
    "pd_overshoot['sum'] = pd_overshoot[quadratic_list].sum(axis=1)\n",
    "pd_overshoot['sex'] = data['M_Sex']\n",
    "pd_overshoot.to_excel('/Users/yilewang/workspaces/data4project/overshoot.xlsx', index=False)"
   ]
  },
  {
   "cell_type": "code",
   "execution_count": null,
   "metadata": {},
   "outputs": [],
   "source": [
    "### Visualization Module\n",
    "for i in data.columns[5:]:\n",
    "    figure = plt.figure(figsize=(15, 10))\n",
    "    ax = figure.add_subplot(111)\n",
    "    coordinates = stripplot_get_coordinates(data, 'group', i)\n",
    "    ax.plot(coordinates[:,0], coordinates[:,1], 'o')\n",
    "    texts = [plt.text(coordinates[:,0][i], coordinates[:,1][i], f'{group}_{caseid}', ha='center', va='center') for i, (group, caseid) in enumerate(zip(data['group'], data['caseid']))]\n",
    "\n",
    "    # texts = [plt.text(coordinates[:,0][i], coordinates[:,1][i], f'{sex}_{group}_{caseid}', ha='center', va='center') for i, (group, caseid, sex) in enumerate(zip(data['group'], data['caseid'], data['M_Sex']))]\n",
    "    adjust_text(texts, expand=(1.2, 2), # expand text bounding boxes by 1.2 fold in x direction and 2 fold in y direction\n",
    "            arrowprops=dict(arrowstyle='->', color='red') # ensure the labeling is clear by adding arrows\n",
    "            )\n",
    "    plt.show()\n",
    "    # Label the points with their y-offset (y_var)"
   ]
  }
 ],
 "metadata": {
  "kernelspec": {
   "display_name": "tvbenv",
   "language": "python",
   "name": "python3"
  },
  "language_info": {
   "codemirror_mode": {
    "name": "ipython",
    "version": 3
   },
   "file_extension": ".py",
   "mimetype": "text/x-python",
   "name": "python",
   "nbconvert_exporter": "python",
   "pygments_lexer": "ipython3",
   "version": "3.11.7"
  }
 },
 "nbformat": 4,
 "nbformat_minor": 2
}
