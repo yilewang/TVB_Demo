{
 "cells": [
  {
   "attachments": {},
   "cell_type": "markdown",
   "metadata": {},
   "source": [
    "### Three minutes TVB simulation. Response to Dr. Solodkin's request\n",
    "\n",
    "1. use the tvb 3 mins simulation results to replace the 1 sec simuation. \n",
    "2. investigate the EPAD data base\n",
    "3. 01/13/2022 lab meeting report, the statistical difference between 1 sec simulation and 3 mins simulation"
   ]
  },
  {
   "cell_type": "code",
   "execution_count": 1,
   "metadata": {},
   "outputs": [],
   "source": [
    "import numpy as np\n",
    "import pandas as pd\n",
    "import sys\n",
    "sys.path.append('/home/yat-lok/workspace/tvbtools/')\n",
    "from tools import concat, statools, signaltools\n",
    "import matplotlib.pyplot as plt"
   ]
  },
  {
   "cell_type": "code",
   "execution_count": 2,
   "metadata": {},
   "outputs": [],
   "source": [
    "prefix_filename = '/home/yat-lok/workspace/data4project/gc3mins/'\n",
    "amp = prefix_filename + 'ampres.xlsx'\n",
    "freq = prefix_filename + 'freqres.xlsx'\n",
    "delay = prefix_filename + 'delayres.xlsx'\n",
    "amp = concat.LI_cal(amp, [3,5], ('LI_amp_gamma', 'LI_amp_theta'))\n",
    "freq = concat.LI_cal(freq, [3,5], ('LI_freq_gamma', 'LI_freq_theta'))\n",
    "delay = pd.read_excel(delay)\n",
    "\n",
    "la3mins = amp.iloc[:,:2]\n",
    "tmp_la = pd.concat([amp.iloc[:,-2:], freq.iloc[:,-2:]], axis=1)\n",
    "la3mins_table = pd.concat([la3mins, tmp_la], axis=1)\n",
    "outdir = prefix_filename + 'la3mins.xlsx'\n",
    "# la3mins_table.to_excel(outdir)"
   ]
  },
  {
   "attachments": {},
   "cell_type": "markdown",
   "metadata": {},
   "source": [
    "#### Second part, permutation value in tvb3mins metrics\n"
   ]
  },
  {
   "cell_type": "code",
   "execution_count": 3,
   "metadata": {},
   "outputs": [
    {
     "name": "stdout",
     "output_type": "stream",
     "text": [
      "   group caseid  amp_gamma_left  amp_gamma_right  amp_theta_right  \\\n",
      "0    SNC  2820A        2.562834         2.507292         1.334379   \n",
      "1    SNC  3168A        2.432937         2.320258         1.321384   \n",
      "2    SNC  3358A        0.000000         2.570389         1.207173   \n",
      "3    SNC  3610A        2.163050         2.385104         1.330792   \n",
      "4    SNC  4073A        2.216265         2.603418         1.351165   \n",
      "..   ...    ...             ...              ...              ...   \n",
      "69    AD  3255A        2.438360         2.559287         1.355220   \n",
      "70    AD  4612A        0.000000         2.532911         1.335439   \n",
      "71    AD  5368A        2.186795         2.599101         1.355143   \n",
      "72    AD  5571A        0.000000         2.573279         1.275507   \n",
      "73    AD  7673A        2.604409         2.437727         1.345592   \n",
      "\n",
      "    amp_theta_left  freq_gamma_left  freq_gamma_right  freq_theta_left  \\\n",
      "0         1.126187             1378              5616              879   \n",
      "1         0.945234              687              6970              674   \n",
      "2         0.000000                0              1798                0   \n",
      "3         0.616688              237              6419              429   \n",
      "4         0.580774              206              4394              318   \n",
      "..             ...              ...               ...              ...   \n",
      "69        0.988964              846              4992              697   \n",
      "70        0.000000                0              5431                0   \n",
      "71        0.673715              341              4517              454   \n",
      "72        0.000000                1              2262                0   \n",
      "73        1.316661             1779              6309              870   \n",
      "\n",
      "    freq_theta_right  pcg_delay  \n",
      "0               1211  19.958761  \n",
      "1               1200  27.918127  \n",
      "2                999   1.000000  \n",
      "3               1199  29.949629  \n",
      "4               1178  37.615732  \n",
      "..               ...        ...  \n",
      "69              1184  25.211896  \n",
      "70              1200   1.000000  \n",
      "71              1182  27.482758  \n",
      "72              1039   1.000000  \n",
      "73              1177  23.636338  \n",
      "\n",
      "[74 rows x 11 columns]\n"
     ]
    }
   ],
   "source": [
    "raw_tvb = pd.concat([amp.iloc[:,:-2], freq.iloc[:,2:-2], delay.iloc[:,2:]], axis=1)\n",
    "print(raw_tvb)"
   ]
  },
  {
   "cell_type": "code",
   "execution_count": 4,
   "metadata": {},
   "outputs": [
    {
     "name": "stdout",
     "output_type": "stream",
     "text": [
      "                  (SNC, NC)  (SNC, MCI)  (SNC, AD)  (NC, MCI)  \\\n",
      "amp_gamma_left        0.612      0.3264     0.2850     0.2850   \n",
      "amp_gamma_right       0.992      0.9920     0.9920     0.9920   \n",
      "amp_theta_right       0.781      0.6696     0.6696     0.6696   \n",
      "amp_theta_left        0.785      0.4548     0.2600     0.2600   \n",
      "freq_gamma_left       0.803      0.6108     0.1845     0.1845   \n",
      "freq_gamma_right      0.890      0.5700     0.2925     0.1440   \n",
      "freq_theta_left       0.772      0.5016     0.1560     0.1845   \n",
      "freq_theta_right      0.940      0.5730     0.5730     0.1350   \n",
      "pcg_delay             0.999      0.3360     0.9990     0.3360   \n",
      "\n",
      "                               (NC, AD)  (MCI, AD)  \n",
      "amp_gamma_left                    0.285     0.2850  \n",
      "amp_gamma_right                   0.992     0.9920  \n",
      "amp_theta_right                  0.6696     0.6696  \n",
      "amp_theta_left                    0.126     0.2700  \n",
      "freq_gamma_left                   0.054     0.1230  \n",
      "freq_gamma_right  0.036000000000000004*     0.2925  \n",
      "freq_theta_left                    0.06     0.1560  \n",
      "freq_theta_right                  0.135     0.6792  \n",
      "pcg_delay                         0.999     0.9990  \n",
      "         Unnamed: 0 ('SNC', 'NC')  ('SNC', 'MCI') ('SNC', 'AD')  \\\n",
      "0   pcgl_freq_gamma         0.484           0.863         0.195   \n",
      "1   pcgr_freq_gamma         0.243           0.902         0.208   \n",
      "2   pcgl_freq_theta         0.697           0.564         0.112   \n",
      "3   pcgr_freq_theta         0.826           0.619         0.671   \n",
      "4    pcgl_amp_gamma         0.426           0.869           0.2   \n",
      "5    pcgr_amp_gamma        0.038*           0.175         0.462   \n",
      "6    pcgl_amp_theta         0.433           0.701         0.199   \n",
      "7    pcgr_amp_theta         0.676           0.370         0.348   \n",
      "8          pcgl_pac         0.356           0.710         0.119   \n",
      "9          pcgr_pac         0.531           0.796         0.884   \n",
      "10         pcgl_plv         0.129           0.470         0.981   \n",
      "11         pcgr_plv         0.553           0.206        0.042*   \n",
      "12        pcg_delay         0.606           0.583         0.261   \n",
      "\n",
      "    ('NC', 'MCI') ('NC', 'AD')  ('MCI', 'AD')  \n",
      "0           0.227       0.014*          0.097  \n",
      "1           0.171      0.008**          0.178  \n",
      "2           0.278       0.031*          0.202  \n",
      "3           0.645        0.445          0.877  \n",
      "4           0.218       0.029*          0.165  \n",
      "5           0.560        0.941          0.574  \n",
      "6           0.170        0.03*          0.284  \n",
      "7           0.519        0.504          0.966  \n",
      "8           0.117      0.008**          0.131  \n",
      "9           0.291        0.439          0.936  \n",
      "10          0.232        0.071          0.373  \n",
      "11          0.535        0.118          0.183  \n",
      "12          0.178        0.062          0.482  \n"
     ]
    }
   ],
   "source": [
    "raw_tvb_stats = statools.stats_calculator(raw_tvb, tails='greater', n=3)\n",
    "# print(statools.stats_calculator(la3mins_table, tails='greater'))\n",
    "\n",
    "# comparison to 1 sec simulation\n",
    "gc1sec_table = pd.read_excel('/home/yat-lok/workspace/data4project/lateralization/gc1sec_res/gc1sec_stats.xlsx')\n",
    "print(raw_tvb_stats)\n",
    "print(gc1sec_table)"
   ]
  },
  {
   "attachments": {},
   "cell_type": "markdown",
   "metadata": {},
   "source": [
    "#### 3. the statistical diff between 3mins sim and 1sec sim"
   ]
  },
  {
   "cell_type": "code",
   "execution_count": 21,
   "metadata": {},
   "outputs": [
    {
     "name": "stdout",
     "output_type": "stream",
     "text": [
      "[0.014 0.008 0.031 0.445 0.029 0.941 0.03  0.504 0.008 0.439 0.071 0.118\n",
      " 0.062]\n",
      "p_value of the ('SNC', 'NC') is 0.005994005994005994\n",
      "p_value of the ('SNC', 'MCI') is 0.6893106893106893\n",
      "p_value of the ('SNC', 'AD') is 0.3206793206793207\n",
      "p_value of the ('NC', 'MCI') is 0.935064935064935\n",
      "p_value of the ('NC', 'AD') is 0.7952047952047953\n",
      "p_value of the ('MCI', 'AD') is 0.9300699300699301\n"
     ]
    }
   ],
   "source": [
    "\n",
    "print(np.array(gc1sec_table.iloc[:,4+1].astype(str).str.extract(r'(\\d+.\\d+)').astype(float)).flatten())\n",
    "for i in range(6):\n",
    "    x1 = np.array(raw_tvb_stats.iloc[:8,i].astype(str).str.extract(r'(\\d+.\\d+)').astype(float)).flatten()\n",
    "    x2 = np.array(gc1sec_table.iloc[:8, i+1].astype(str).str.extract(r'(\\d+.\\d+)').astype(float)).flatten()\n",
    "    p_value = statools.permutation_test(x1, x2, iteration=1000, tails=\"twosides\")\n",
    "    print(f\"p_value of the {raw_tvb_stats.columns[i]} is {p_value}\")"
   ]
  },
  {
   "cell_type": "code",
   "execution_count": null,
   "metadata": {},
   "outputs": [],
   "source": [
    "for i in raw_tvb.columns[2:]:\n",
    "    signaltools.SignalToolkit.psvplot(x='group', y=i, df=raw_tvb)\n",
    "    plt.show()\n",
    "for i in la3mins_table.columns[2:]:\n",
    "    signaltools.SignalToolkit.psvplot(x='group', y=i, df=la3mins_table)\n",
    "    plt.show()"
   ]
  }
 ],
 "metadata": {
  "kernelspec": {
   "display_name": "tvbenv",
   "language": "python",
   "name": "python3"
  },
  "language_info": {
   "codemirror_mode": {
    "name": "ipython",
    "version": 3
   },
   "file_extension": ".py",
   "mimetype": "text/x-python",
   "name": "python",
   "nbconvert_exporter": "python",
   "pygments_lexer": "ipython3",
   "version": "3.8.13"
  },
  "orig_nbformat": 4,
  "vscode": {
   "interpreter": {
    "hash": "7d6eff59d82162ad618c2fda16bbe4a2b1e156e75fbd6961cfe85de3ca5351f8"
   }
  }
 },
 "nbformat": 4,
 "nbformat_minor": 2
}
