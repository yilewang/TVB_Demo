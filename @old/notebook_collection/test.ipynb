{
 "cells": [
  {
   "cell_type": "code",
   "execution_count": 1,
   "metadata": {},
   "outputs": [],
   "source": [
    "import sys\n",
    "sys.path.append(\"/home/yat-lok/workspace/tvbtools\")\n",
    "from tools.statools import stats_calculator_three\n",
    "import pandas as pd\n",
    "import numpy as np\n"
   ]
  },
  {
   "cell_type": "code",
   "execution_count": 2,
   "metadata": {},
   "outputs": [
    {
     "name": "stderr",
     "output_type": "stream",
     "text": [
      "/home/yat-lok/workspace/tvbtools/tools/statools.py:249: UserWarning: Boolean Series key will be reindexed to match DataFrame index.\n",
      "  tmp_col = tmp_df[datatable[\"group\"].str.contains(str(groups[x]))]\n"
     ]
    },
    {
     "name": "stdout",
     "output_type": "stream",
     "text": [
      "              (SNC, NC)      (SNC, MCI)       (SNC, AD)       (NC, MCI)  \\\n",
      "cluster_1      0.085071  0.000149985***  0.000149985***  0.000149985***   \n",
      "cluster_2      0.149145  0.000149985***  0.000149985***  0.000149985***   \n",
      "cluster_3      0.839316    0.00149985**   0.00019998***   0.00019998***   \n",
      "cluster_4    0.0279972*     0.01079892*    0.00179982**        0.079942   \n",
      "cluster_5  0.012958704*  0.000149985***  0.000149985***  0.000149985***   \n",
      "\n",
      "                 (NC, AD)                (MCI, AD)  \n",
      "cluster_1  0.000149985***                      1.0  \n",
      "cluster_2  0.000149985***                 0.929107  \n",
      "cluster_3   0.00019998***  0.0019198079999999998**  \n",
      "cluster_4        0.343406                 0.861714  \n",
      "cluster_5  0.000149985***                 0.083092  \n"
     ]
    }
   ],
   "source": [
    "dbf = pd.read_excel('/home/yat-lok/workspace/data4project/lateralization/gc1sec_res/meta/participation_coef.xlsx')\n",
    "dab = stats_calculator_three(dbf, var = \"participation_coef\", third_var = \"cluster\")\n",
    "print(dab)"
   ]
  },
  {
   "cell_type": "code",
   "execution_count": 4,
   "metadata": {},
   "outputs": [
    {
     "name": "stdout",
     "output_type": "stream",
     "text": [
      "   A  B  C\n",
      "A  1  2  3\n",
      "B  3  4  5\n",
      "C  5  6  7\n",
      "   B  C  A\n",
      "B  4  5  3\n",
      "C  6  7  5\n",
      "A  2  3  1\n"
     ]
    }
   ],
   "source": [
    "import numpy as np\n",
    "import pandas as pd\n",
    "mt = np.array([[1,2,3],[3,4,5],[5,6,7]])\n",
    "mt = pd.DataFrame(mt, columns=[\"A\", \"B\", \"C\"], index = [\"A\", \"B\", \"C\"])\n",
    "print(mt)\n",
    "mt2 = mt.loc[[\"B\", \"C\", \"A\"], [\"B\",\"C\", \"A\"]]\n",
    "print(mt2)"
   ]
  }
 ],
 "metadata": {
  "kernelspec": {
   "display_name": "Python 3.8.13 ('tvbenv')",
   "language": "python",
   "name": "python3"
  },
  "language_info": {
   "codemirror_mode": {
    "name": "ipython",
    "version": 3
   },
   "file_extension": ".py",
   "mimetype": "text/x-python",
   "name": "python",
   "nbconvert_exporter": "python",
   "pygments_lexer": "ipython3",
   "version": "3.8.13"
  },
  "orig_nbformat": 4,
  "vscode": {
   "interpreter": {
    "hash": "d3c26eedd07840027ff202a94d88c89e67a86d8b5dcd58f087e1d46a589dbbcf"
   }
  }
 },
 "nbformat": 4,
 "nbformat_minor": 2
}
