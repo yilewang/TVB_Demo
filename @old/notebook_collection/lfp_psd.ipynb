{
 "cells": [
  {
   "attachments": {},
   "cell_type": "markdown",
   "metadata": {},
   "source": [
    "### PSD + TVB LFPs results\n",
    "\n",
    "THis notebook is used to calculate the psd results in simulated LFPs"
   ]
  },
  {
   "cell_type": "code",
   "execution_count": null,
   "metadata": {},
   "outputs": [],
   "source": [
    "import pandas as pd\n",
    "import numpy as np\n",
    "from scipy import signal\n",
    "from scipy.fftpack import fft, rfft, fftfreq\n",
    "import matplotlib.pyplot as plt\n",
    "import ipywidgets as widgets\n",
    "from scipy.signal import butter, lfilter\n",
    "my_layout = widgets.Layout()\n",
    "import sys\n",
    "sys.path.append('/home/yat-lok/workspace/tvbtools/')\n",
    "from tools.signaltools import SignalToolkit"
   ]
  },
  {
   "cell_type": "code",
   "execution_count": null,
   "metadata": {},
   "outputs": [],
   "source": [
    "# define a filter to separate gamma frequency and theta frequency\n",
    "\n",
    "def fir_bandpass(data, fs, cut_off_low, cut_off_high, width=2.0, ripple_db=10.0):\n",
    "    \"\"\"\n",
    "    The FIR bandpass filter\n",
    "    \"\"\"\n",
    "    nyq_rate = fs / 2.0\n",
    "    wid = width/nyq_rate\n",
    "    N, beta = signal.kaiserord(ripple_db, wid)\n",
    "    taps = signal.firwin(N, cutoff = [cut_off_low, cut_off_high],\n",
    "                  window = 'hamming', pass_zero = False, fs=fs)\n",
    "    filtered_signal = signal.lfilter(taps, 1.0, data)\n",
    "    return filtered_signal, N\n",
    "\n",
    "\n",
    "def butter_bandpass(lowcut, highcut, fs, order=5):\n",
    "    return butter(order, [lowcut, highcut], fs=fs, btype='band')\n",
    "\n",
    "def butter_bandpass_filter(data, lowcut, highcut, fs, order=5):\n",
    "    b, a = butter_bandpass(lowcut, highcut, fs, order=order)\n",
    "    y = lfilter(b, a, data)\n",
    "    return y\n",
    "\n",
    "\n",
    "def psd(signal, samplinginterval):\n",
    "    fourierSignal = np.fft.fft(np.array(signal) - np.array(signal).mean())\n",
    "    spectrum = 2 * (1/fs) ** 2 / 1000 * (fourierSignal * fourierSignal.conj())\n",
    "    spectrum = spectrum[:int(len(np.array(signal)) / 2)] \n",
    "    time_all = 1 / 1\n",
    "    fNQ = 1/samplinginterval/2 # Nyquist frequency\n",
    "    faxis = np.arange(0, fNQ, time_all) # frequency axis\n",
    "    return faxis, spectrum.real\n",
    "    "
   ]
  },
  {
   "cell_type": "code",
   "execution_count": null,
   "metadata": {},
   "outputs": [],
   "source": [
    "fs = 81920.0\n",
    "samplinginterval = 1/fs\n",
    "t = np.arange(0, 1, samplinginterval)\n",
    "grps = ['SNC','NC','MCI','AD']\n",
    "col = [\"#66CDAA\",\"#4682B4\",\"#AB63FA\",\"#FFA15A\"]\n",
    "path = '/mnt/c/Users/Wayne/tvb/stat_data/Gc_Go.xlsx'\n",
    "coData = pd.read_excel(path, index_col=0)\n",
    "print(coData)\n",
    "\n",
    "def read_data(grp, caseid):\n",
    "    gm = np.round(coData.loc[caseid, \"Gc\"], 3)\n",
    "    dataFile = '/mnt/d/data/LFP/'+str(grp)+'/'+str(caseid)+'/'+str(caseid)+'_'+str(gm)+'.csv'\n",
    "    df = pd.read_csv(dataFile, index_col=0)\n",
    "    dfL = df.iloc[:, 4]\n",
    "    dfR = df.iloc[:, 5]\n",
    "    fig, axs = plt.subplots(2, figsize=(15,7))\n",
    "    #plt.suptitle(f\"case: {}\")\n",
    "    \n",
    "    cutoff_low = 2.\n",
    "    freq_filter = 10.\n",
    "    filter_R = SignalToolkit.sos_filter(np.array(dfR), [2,8], 81920)\n",
    "    filter_L = SignalToolkit.sos_filter(np.array(dfL), [2,8], 81920)\n",
    "    # filter_R = butter_bandpass_filter(np.array(dfR), cutoff_low, freq_filter, fs, order=1)\n",
    "    # filter_L = butter_bandpass_filter(np.array(dfL), cutoff_low, freq_filter, fs, order=1)\n",
    "    \n",
    "    axs[0].plot(t, dfL, color='k', label = 'PCG Left')\n",
    "    axs[0].plot(t, dfR, color='r', label = 'PCG Right')\n",
    "    axs[0].plot(t, filter_L, label = 'PCG Left theta')\n",
    "    axs[0].plot(t, filter_R, label = 'PCG Right theta')\n",
    "    axs[0].legend()\n",
    "    \n",
    "    psd_freq_right, psd_right = psd(np.array(dfR), samplinginterval)\n",
    "    psd_freq_left, psd_left = psd(np.array(dfL), samplinginterval)\n",
    "    plt.title(f\"{grp}+{caseid}\")\n",
    "    axs[1].plot(psd_freq_left, psd_left, color= 'k', label = 'PCG Left')\n",
    "    axs[1].plot(psd_freq_right, psd_right, color='r', label = 'PCG Right')\n",
    "    axs[1].set(xlim=[0,100])\n",
    "    axs[1].legend()\n",
    "\n",
    "    # # welch\n",
    "    # freqs, psds = signal.welch(filter_R, fs, nperseg=fs)\n",
    "    # plt.figure(figsize=(15,7))\n",
    "    # plt.plot(freqs, psds)\n",
    "    # plt.title('PSD: power spectral density')\n",
    "    # plt.xlabel('Frequency')\n",
    "    # plt.ylabel('Power')\n",
    "    # plt.xlim([0,100])"
   ]
  },
  {
   "cell_type": "code",
   "execution_count": null,
   "metadata": {},
   "outputs": [],
   "source": [
    "# %matplotlib widget\n",
    "for grp, caseid in zip(coData.groups, coData.index):\n",
    "    read_data(grp=grp, caseid=caseid)"
   ]
  },
  {
   "cell_type": "code",
   "execution_count": null,
   "metadata": {},
   "outputs": [],
   "source": [
    "# @widgets.interact(gm=widgets.FloatSlider(0.001, min=0.001, max=0.070, step=0.001\n",
    "#                                ,layout=my_layout))\n",
    "\n",
    "# def plot_data(gm):\n",
    "#     read_data(gm)"
   ]
  }
 ],
 "metadata": {
  "kernelspec": {
   "display_name": "tvbenv",
   "language": "python",
   "name": "python3"
  },
  "language_info": {
   "codemirror_mode": {
    "name": "ipython",
    "version": 3
   },
   "file_extension": ".py",
   "mimetype": "text/x-python",
   "name": "python",
   "nbconvert_exporter": "python",
   "pygments_lexer": "ipython3",
   "version": "3.8.13 | packaged by conda-forge | (default, Mar 25 2022, 06:04:10) \n[GCC 10.3.0]"
  },
  "orig_nbformat": 4,
  "vscode": {
   "interpreter": {
    "hash": "7d6eff59d82162ad618c2fda16bbe4a2b1e156e75fbd6961cfe85de3ca5351f8"
   }
  }
 },
 "nbformat": 4,
 "nbformat_minor": 2
}
