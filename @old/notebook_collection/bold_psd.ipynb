{
 "cells": [
  {
   "attachments": {},
   "cell_type": "markdown",
   "metadata": {},
   "source": [
    "### Calculating the power spectrum density in the BOLD signal\n",
    "\n",
    "In this notebook, I will show how to use psd in BOLD signals. "
   ]
  },
  {
   "cell_type": "code",
   "execution_count": 1,
   "metadata": {},
   "outputs": [],
   "source": [
    "import sys\n",
    "sys.path.append('/home/yat-lok/workspace/tvbtools/')\n",
    "from tools.signaltools import SignalToolkit\n",
    "import numpy as np\n",
    "import pandas as pd\n",
    "import matplotlib.pyplot as plt\n",
    "import ipywidgets as widgets\n",
    "import scipy\n",
    "my_layout = widgets.Layout()\n",
    "plt.style.use('ggplot')\n",
    "import os\n",
    "import random\n",
    "import seaborn as sns\n"
   ]
  },
  {
   "cell_type": "code",
   "execution_count": 4,
   "metadata": {},
   "outputs": [],
   "source": [
    "node_names = ['aCNG-L', 'aCNG-R','mCNG-L','mCNG-R','pCNG-L','pCNG-R', 'HIP-L','HIP-R','PHG-L','PHG-R','AMY-L','AMY-R', 'sTEMp-L','sTEMp-R','mTEMp-L','mTEMp-R']\n",
    "node_hemi = ['aCNG', 'mCNG','pCNG','HIP','PHG','AMY', 'sTEMp','mTEMp']\n",
    "path = '/home/yat-lok/workspace/data4project/lateralization/tvb_parameters.xlsx'\n",
    "coData = pd.read_excel(path)\n",
    "colors = [\"#66CDAA\",\"#4682B4\",\"#AB63FA\",\"#FFA15A\"]\n",
    "def bold_psd(grp, caseid):\n",
    "    # import empirical functional connectivity\n",
    "    # Here is the path of the mat file of the FC data\n",
    "    pth = \"/home/yat-lok/workspace/data4project/lateralization/ts_fmri/\"+ grp+'-TS/'+ caseid +\"/ROISignals_\"+ caseid +\".mat\"\n",
    "    subject = SignalToolkit(filename=pth, fs=0.5)\n",
    "    bold = subject.data_reader()\n",
    "    df = pd.DataFrame.from_dict(bold.get(\"ROISignals\"))\n",
    "    df.columns = node_names\n",
    "    plt.plot(df.iloc[:,0])\n",
    "    dfd = pd.DataFrame()\n",
    "\n",
    "    # for i in range(16):\n",
    "    #     x, y = subject.psd(data=df.iloc[:,i], visual=False)\n",
    "    #     _dfd = pd.Series(data=y,copy=False)\n",
    "    #     dfd = pd.concat([dfd, _dfd], ignore_index = True, axis=1)\n",
    "    # dfd.columns = node_names\n",
    "    ladict = {}\n",
    "    ladict['grp'] = grp\n",
    "    ladict['caseid'] = caseid\n",
    "    for index, n in enumerate(range(0,15,2)):\n",
    "        faxis, dominant_left = subject.psd(data=df.iloc[:,n], sampling_interval=2, visual=True, xlim=0.25, fNQ = 512)\n",
    "        faxis, dominant_right = subject.psd(data=df.iloc[:,n+1], sampling_interval=2, visual=True, xlim=0.25, fNQ = 512)\n",
    "        la = (dominant_right[1:int(len(faxis)/2)] - dominant_left[1:int(len(faxis)/2)])/(dominant_left[1:int(len(faxis)/2)] + dominant_right[1:int(len(faxis)/2)])\n",
    "        ladict[node_hemi[index]]=np.mean(la)\n",
    "            \n",
    "    ladict['overall'] = np.mean([ladict.get(n) for n in node_hemi if n not in ['pCNG']])\n",
    "    # fig = plt.figure(figsize=(15,5))\n",
    "    # axes = fig.add_subplot(111)\n",
    "    # faxis, dominant_left = subject.psd(data=df.iloc[:,4], sampling_interval=2, visual=False, xlim=0.25, fNQ = 512, label=\"pcg_left\")\n",
    "    # faxis, dominant_right = subject.psd(data=df.iloc[:,5], sampling_interval=2, visual=False, xlim=0.25, fNQ = 512, label=\"pcg_right\")\n",
    "    # plt.legend()\n",
    "    #return faxis[np.argmax(dominant_left)]*dominant_left[np.argmax(dominant_left)], faxis[np.argmax(dominant_right)]*dominant_right[np.argmax(dominant_right)]\n",
    "    return ladict\n",
    "\n",
    "\n",
    "    # dfd.plot.bar(figsize=(15,5))\n",
    "\n",
    "    # dfd.to_excel(f\"/mnt/c/Users/Wayne/tvb/psdres/psd_data/{grp}/{caseid}.xlsx\")\n",
    "    # axes = subject.panel()\n",
    "    # axes.set_title(f\"{grp}_{caseid}_limbic\")\n",
    "    # for i in range(16):\n",
    "    #     subject.psd(data=df.iloc[:,i], visual=True, axes=axes, xlim=0.25, label =node_names[i], c=color[i])\n",
    "    # plt.legend()\n",
    "    # plt.savefig(f\"/mnt/c/Users/wayne/tvb/psdres/limbic/{grp}_{caseid}.png\", dpi=300)\n",
    "    \n",
    "    # axes = subject.panel()\n",
    "    # axes.set_title(f\"{grp}_{caseid}_pcg\")\n",
    "    # for i in [4,5]:\n",
    "    #     subject.psd(data=df.iloc[:,i], visual=True, axes=axes, xlim=0.25, label =node_names[i], c=color[i])\n",
    "    # plt.legend()\n",
    "    # plt.savefig(f\"/mnt/c/Users/wayne/tvb/psdres/pcg/{grp}_{caseid}.png\", dpi=300)\n"
   ]
  },
  {
   "cell_type": "code",
   "execution_count": 5,
   "metadata": {},
   "outputs": [
    {
     "name": "stderr",
     "output_type": "stream",
     "text": [
      "/home/yat-lok/workspace/tvbtools/tools/signaltools.py:339: RuntimeWarning: More than 20 figures have been opened. Figures created through the pyplot interface (`matplotlib.pyplot.figure`) are retained until explicitly closed and may consume too much memory. (To control this warning, see the rcParam `figure.max_open_warning`).\n",
      "  fig = plt.figure(figsize=(15,5))\n"
     ]
    }
   ],
   "source": [
    "# dd = bold_psd(\"SNC\",\"4481A\")\n",
    "\n",
    "dfdict = pd.DataFrame()\n",
    "for grp, caseid in zip(coData.groups,coData.caseid):\n",
    "    dd = bold_psd(grp,caseid)\n",
    "    dfdict = pd.concat([dfdict, pd.DataFrame.from_dict([dd])], ignore_index=True)\n",
    "\n",
    "\n",
    "def psvplot(x,y, axes):\n",
    "    sns.violinplot(x=x, y=y, data=dfdict, palette=colors, inner = None, width=0.7, bw=0.5, ax=axes)\n",
    "    sns.stripplot( data=dfdict, x=x, y=y, color='black', label=\"right\", ax = axes)\n",
    "    sns.pointplot(x=x, y=y, data=dfdict, estimator=np.mean, color = 'red', ax=axes)\n",
    "\n",
    "fig = plt.figure(figsize=(10,5))\n",
    "#plt.title(\"lateralization comparison between pcg and other limbic regions\")\n",
    "axes = fig.add_subplot(121)\n",
    "x = 'grp'\n",
    "y = 'pCNG'\n",
    "psvplot(x, y, axes)\n",
    "axes.set_ylabel(\"lateralization index\")\n",
    "#axes.set_ylim(0.1,0.7)\n",
    "axes.set_title(\"pCNG\")\n",
    "\n",
    "x = 'grp'\n",
    "y = 'overall'\n",
    "axes2 = fig.add_subplot(122)\n",
    "psvplot(x, y, axes2)\n",
    "axes2.sharey(axes)\n",
    "axes2.set(ylabel=None)\n",
    "axes2.set_title(\"other limbic regions\")\n",
    "\n",
    "# axes.set_ylabel(\"lateralization index\")\n",
    "# axes.set_ylim(0.1,0.8)\n",
    "# axes.set_title(\"violin plot of lateralization in pCNG regions\")\n",
    "#plt.savefig(\"/mnt/c/Users/Wayne/tvb/psdres/la_others_raw.png\", dpi=300)"
   ]
  },
  {
   "cell_type": "code",
   "execution_count": null,
   "metadata": {},
   "outputs": [],
   "source": [
    "# %matplotlib widget\n",
    "# bold_psd(\"SNC\",\"4481A\")\n",
    "from numpy import mean\n",
    "\n",
    "def legend_without_duplicate_labels(figure):\n",
    "    handles, labels = plt.gca().get_legend_handles_labels()\n",
    "    by_label = dict(zip(labels, handles))\n",
    "    figure.legend(by_label.values(), by_label.keys())\n",
    "\n",
    "df = pd.DataFrame()\n",
    "for grp, caseid in zip(coData.groups,coData.caseid):\n",
    "    x,y = bold_psd(grp,caseid)\n",
    "    df = pd.concat([df, pd.DataFrame.from_records([{'grp':grp, \"casied\":caseid, \"dominant_left\":x, \"dominant_right\":y, \"dominant_both\":np.mean([x,y])}])], ignore_index=True)\n",
    "\n",
    "fig = plt.figure(figsize=(10,5))\n",
    "axes = fig.add_subplot(111)\n",
    "sns.stripplot(ax = axes, data=df, x='grp', y='dominant_left', alpha = 1.0, color='red', label=\"left\")\n",
    "sns.stripplot(ax = axes, data=df, x='grp', y='dominant_right', color='black', label=\"right\")\n",
    "legend_without_duplicate_labels(plt)\n",
    "# axes.set_ylabel(\"dominant frequency\")\n",
    "# axes.set_title(\"pcg\")\n",
    "# # plt.savefig(\"/mnt/c/Users/Wayne/tvb/dominant_freq.png\", dpi=300)\n",
    "# sns.stripplot(ax = axes, data=df, x='grp', y='dominant_both', alpha = 0.5, color='black', label=\"both\")\n",
    "# sns.violinplot(x=\"grp\", y=\"dominant_both\", data=df, palette=colors, ax=axes, inner = None, width=0.7, bw=0.5)\n",
    "sns.pointplot(x=\"grp\", y=\"dominant_left\", data=df, estimator=mean, color='red')\n",
    "sns.pointplot(x=\"grp\", y=\"dominant_right\", data=df, estimator=mean, color = 'black')\n",
    "#sns.kdeplot(data=df, x=\"dominant_both\", hue=\"grp\", cut=0, fill=True, common_norm=False, alpha=0.7, bw_adjust=.1, ax=axes, palette=colors)\n",
    "axes.set_title(\"violin plot of dominant freq bothside\")\n",
    "#plt.savefig(\"/mnt/c/Users/Wayne/tvb/psdres/dominant_freq.png\", dpi=300)"
   ]
  },
  {
   "cell_type": "code",
   "execution_count": null,
   "metadata": {},
   "outputs": [],
   "source": [
    "%matplotlib widget\n",
    "x = [10,120,130,120,120,100,123,456,78,89]\n",
    "\n",
    "subject= SignalToolkit()\n",
    "x = x-np.mean(x)\n",
    "subject.psd(data=x, sampling_interval=1/10, visual=True, xlim=5, fNQ = 512)"
   ]
  }
 ],
 "metadata": {
  "kernelspec": {
   "display_name": "tvbenv",
   "language": "python",
   "name": "python3"
  },
  "language_info": {
   "codemirror_mode": {
    "name": "ipython",
    "version": 3
   },
   "file_extension": ".py",
   "mimetype": "text/x-python",
   "name": "python",
   "nbconvert_exporter": "python",
   "pygments_lexer": "ipython3",
   "version": "3.8.13 | packaged by conda-forge | (default, Mar 25 2022, 06:04:10) \n[GCC 10.3.0]"
  },
  "orig_nbformat": 4,
  "vscode": {
   "interpreter": {
    "hash": "7d6eff59d82162ad618c2fda16bbe4a2b1e156e75fbd6961cfe85de3ca5351f8"
   }
  }
 },
 "nbformat": 4,
 "nbformat_minor": 2
}
