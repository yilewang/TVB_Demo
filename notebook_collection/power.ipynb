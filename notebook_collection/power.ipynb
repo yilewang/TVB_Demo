{
 "cells": [
  {
   "attachments": {},
   "cell_type": "markdown",
   "metadata": {},
   "source": [
    "### Script for psd\n",
    "\n",
    "This is a template python file to calculate the psd results"
   ]
  },
  {
   "cell_type": "code",
   "execution_count": 23,
   "metadata": {},
   "outputs": [
    {
     "name": "stderr",
     "output_type": "stream",
     "text": [
      "C:\\Users\\wayne\\miniconda3\\lib\\site-packages\\matplotlib\\axes\\_axes.py:7580: RuntimeWarning: divide by zero encountered in log10\n",
      "  Z = 10. * np.log10(spec)\n"
     ]
    },
    {
     "data": {
      "image/png": "[encoded data removed]",
      "text/plain": [
       "<Figure size 432x288 with 2 Axes>"
      ]
     },
     "metadata": {
      "needs_background": "light"
     },
     "output_type": "display_data"
    }
   ],
   "source": [
    "# import the libraries\n",
    "import matplotlib.pyplot as plot\n",
    "import numpy as np\n",
    "\n",
    "# Define the list of frequencies\n",
    "frequencies  = np.arange(5,105,5)\n",
    "# Sampling Frequency\n",
    "samplingFrequency   = 400\n",
    "\n",
    "# Create two ndarrays\n",
    "s1 = np.empty([0]) # For samples\n",
    "s2 = np.empty([0]) # For signal\n",
    "\n",
    "s3 = np.arange(0, 1, 1/8000)\n",
    "\n",
    "# Start Value of the sample\n",
    "start   = 1\n",
    "\n",
    "# Stop Value of the sample\n",
    "stop = samplingFrequency+1\n",
    "\n",
    "for frequency in frequencies:\n",
    "\n",
    "    sub1 = np.arange(start, stop, 1)\n",
    "    # Signal - Sine wave with varying frequency + Noise\n",
    "    sub2 = np.sin(2*np.pi*sub1*frequency*1/samplingFrequency)+np.random.randn(len(sub1))\n",
    "    s1 = np.append(s1, sub1)\n",
    "    s2 = np.append(s2, sub2)\n",
    "    start = stop+1\n",
    "    stop = start+samplingFrequency\n",
    "\n",
    "s2 = np.sin(100*np.pi*s3)\n",
    "\n",
    "# Plot the signal\n",
    "plot.subplot(211)\n",
    "plot.plot(s1,s2)\n",
    "plot.xlabel('Sample')\n",
    "plot.ylabel('Amplitude')\n",
    "\n",
    "# Plot the spectrogram\n",
    "plot.subplot(212)\n",
    "powerSpectrum, freqenciesFound, time, imageAxis = plot.specgram(s2, Fs=samplingFrequency)\n",
    "plot.xlabel('Time')\n",
    "plot.ylabel('Frequency')\n",
    "plot.show()   "
   ]
  }
 ],
 "metadata": {
  "kernelspec": {
   "display_name": "tvbenv",
   "language": "python",
   "name": "python3"
  },
  "language_info": {
   "codemirror_mode": {
    "name": "ipython",
    "version": 3
   },
   "file_extension": ".py",
   "mimetype": "text/x-python",
   "name": "python",
   "nbconvert_exporter": "python",
   "pygments_lexer": "ipython3",
   "version": "3.8.13 | packaged by conda-forge | (default, Mar 25 2022, 06:04:10) \n[GCC 10.3.0]"
  },
  "orig_nbformat": 4,
  "vscode": {
   "interpreter": {
    "hash": "7d6eff59d82162ad618c2fda16bbe4a2b1e156e75fbd6961cfe85de3ca5351f8"
   }
  }
 },
 "nbformat": 4,
 "nbformat_minor": 2
}
