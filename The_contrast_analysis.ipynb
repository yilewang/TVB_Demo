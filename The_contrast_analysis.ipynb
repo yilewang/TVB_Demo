{
  "cells": [
    {
      "cell_type": "markdown",
      "metadata": {
        "colab_type": "text",
        "id": "view-in-github"
      },
      "source": [
        "<a href=\"https://colab.research.google.com/github/yilewang/TVB_Demo/blob/master/The_contrast_analysis.ipynb\" target=\"_parent\"><img src=\"https://colab.research.google.com/assets/colab-badge.svg\" alt=\"Open In Colab\"/></a>"
      ]
    },
    {
      "cell_type": "markdown",
      "metadata": {
        "id": "EmLjfLs7fEJh"
      },
      "source": [
        "This is a demo for contrast analysis. Contrast analysis is a statistical tool for trends analysis. The basic idea is based on ANOVA but it will allow research to customize contrast weights for different groups. This demo will only focus on posterior test of the contrast analysis (Scheffe's Test). The detailed info could be seen at Dr. Abdi's paper here: https://personal.utdallas.edu/~herve/abdi-contrasts2010-pretty.pdf"
      ]
    },
    {
      "cell_type": "code",
      "execution_count": 1,
      "metadata": {
        "colab": {
          "base_uri": "https://localhost:8080/",
          "height": 35
        },
        "id": "35LLTz55e-Ky",
        "outputId": "9bf0093d-2689-4f04-d007-e6fd1492fc2f"
      },
      "outputs": [
        {
          "data": {
            "application/vnd.google.colaboratory.intrinsic+json": {
              "type": "string"
            },
            "text/plain": [
              "'\\nThe contrast analysis used for group comparison\\n\\nAuthor: Yile Wang\\nDate: 08/17/2021\\n'"
            ]
          },
          "execution_count": 1,
          "metadata": {},
          "output_type": "execute_result"
        }
      ],
      "source": [
        "# !/usr/bin/python\n",
        "\n",
        "import numpy as np\n",
        "import scipy.stats\n",
        "import pandas as pd\n",
        "\"\"\"\n",
        "The contrast analysis used for group comparison\n",
        "\n",
        "Author: Yile Wang\n",
        "Date: 08/17/2021\n",
        "\"\"\""
      ]
    },
    {
      "cell_type": "code",
      "execution_count": 2,
      "metadata": {
        "id": "ZzQEHpvifeka"
      },
      "outputs": [],
      "source": [
        "def contrast_analysis(datatable, contrast):\n",
        "    \"\"\" \n",
        "    Arg: \n",
        "        Pandas DataFrame with all the features and groups info\n",
        "    Return: \n",
        "        The contrast analysis results\n",
        "    \n",
        "    For this dataset, it should contain four groups, SNC, NC, MCI, AD;\n",
        "\n",
        "\n",
        "    \"\"\"\n",
        "\n",
        "    # the number of cases for each group\n",
        "    num_group = len(contrast)\n",
        "    num_cases = datatable.groupby(['groups']).count().iloc[:,0].to_numpy()\n",
        "\n",
        "    F_table = pd.DataFrame(columns=['features','F_value', 'P_value'])\n",
        "    mean_array = np.zeros(num_group)\n",
        "    var_array = np.zeros(num_group)\n",
        "\n",
        "    for col in datatable.columns[3:]:\n",
        "\n",
        "        # mean calculation\n",
        "        mean_array = datatable.groupby(['groups']).mean().loc[:,col].to_numpy()\n",
        "        meanNcontrast = np.dot(mean_array, contrast)\n",
        "        contrast2 = np.square(contrast)\n",
        "\n",
        "        # variance calculation\n",
        "        var_array = datatable.groupby(['groups']).var().loc[:,col].to_numpy()\n",
        "        denominator = sum(num_cases) - num_group\n",
        "        # degree of freedom of the each case\n",
        "        num_cases_df = num_cases -1\n",
        "\n",
        "        # compute the sum of squares & mean sum of squares \n",
        "        SSE = np.dot(var_array, num_cases_df)\n",
        "        MSE = SSE/denominator\n",
        "        tmp_ms_contrast = sum(contrast2/num_cases)\n",
        "\n",
        "        # compute the MS contrast\n",
        "        MS_contrast = (meanNcontrast**2) / tmp_ms_contrast\n",
        "        F_value = MS_contrast/MSE\n",
        "\n",
        "        # alpha = 0.05\n",
        "        F_critical = scipy.stats.f.ppf(q=1-0.05, dfn=1, dfd=denominator)\n",
        "\n",
        "        # for posterior contrast, using scheffe test\n",
        "        scheffe = F_critical * (num_group-1)\n",
        "        if F_value >= scheffe:\n",
        "            p = 0.05\n",
        "        else:\n",
        "            p = 'NA'\n",
        "\n",
        "        print(f\"The {col} contrast has F_value {F_value}, and the F_critical Scheffe's Test is {scheffe}\")\n",
        "        F_table = F_table.append({'features':col,'F_value':F_value, 'P_value':p}, ignore_index=True)\n",
        "    return F_table"
      ]
    },
    {
      "cell_type": "code",
      "execution_count": 7,
      "metadata": {
        "colab": {
          "base_uri": "https://localhost:8080/"
        },
        "id": "Ja24DPibgCsC",
        "outputId": "e571e7ed-9e12-4ecf-caa9-af7b89922b85"
      },
      "outputs": [
        {
          "name": "stdout",
          "output_type": "stream",
          "text": [
            "The Gc contrast has F_value 8.78447083957519, and the F_critical Scheffe's Test is 11.933338178430578\n",
            "The Gmax contrast has F_value 0.5379871992845026, and the F_critical Scheffe's Test is 11.933338178430578\n",
            "The Go-Gc contrast has F_value 26.075328449124477, and the F_critical Scheffe's Test is 11.933338178430578\n",
            "The Gmax-Gc contrast has F_value 1.5465756599534892, and the F_critical Scheffe's Test is 11.933338178430578\n",
            "  features    F_value P_value\n",
            "0       Gc   8.784471      NA\n",
            "1     Gmax   0.537987      NA\n",
            "2    Go-Gc  26.075328    0.05\n",
            "3  Gmax-Gc   1.546576      NA\n"
          ]
        }
      ],
      "source": [
        "# The data set should be a pandas Datafram, and the groups info should be specificed as a column called 'groups'\n",
        "# e.x.\n",
        "\n",
        "G_table = pd.read_excel('./test.xlsx')\n",
        "\n",
        "contrast = [-3, -1, 1, 3] #linear trend\n",
        "contrast2 = [1,-1,-1,1] #quadratic trend\n",
        "contrast3 = [-1,3,-3,1] #poly\n",
        "F_table = contrast_analysis(G_table, contrast)\n",
        "print(F_table)"
      ]
    }
  ],
  "metadata": {
    "colab": {
      "collapsed_sections": [],
      "include_colab_link": true,
      "name": "The_contrast_analysis.ipynb",
      "provenance": []
    },
    "kernelspec": {
      "display_name": "Python 3.8.13 ('tvbenv')",
      "language": "python",
      "name": "python3"
    },
    "language_info": {
      "name": "python",
      "version": "3.8.13"
    },
    "vscode": {
      "interpreter": {
        "hash": "d3c26eedd07840027ff202a94d88c89e67a86d8b5dcd58f087e1d46a589dbbcf"
      }
    }
  },
  "nbformat": 4,
  "nbformat_minor": 0
}
