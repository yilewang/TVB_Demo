{
 "cells": [
  {
   "cell_type": "markdown",
   "metadata": {},
   "source": [
    "### Ultimate Notebook for Brain Lateralization Paper\n",
    "\n",
    "Here is the collection of all the analyses performed for the paper on brain lateralization. The analyses are organized in the following way:\n",
    "\n",
    "1. TVB part\n",
    "    - Raw Signal examples\n",
    "    - Apply signal processing to Local Field Potentials (LFPs) on Left and Right pCNG:\n",
    "        - counting spike frequency in gamma band (30-100 Hz) and theta band (4-8 Hz) after applying a bandpass filter\n",
    "        - calculate amplitude envelope of the signal\n",
    "        - include burst analyses (from David's blog: [link](https://spikesandbursts.wordpress.com/2023/08/24/patch-clamp-data-analysis-in-python-bursts/))\n",
    "        - calculate the coherence between the two LFPs\n",
    "        - calculate the phase distribution of two signals\n",
    "    - Structural Connectivity\n",
    "        - Distribution of left and right tract strengths\n",
    "        - Distribution of Homotopic and heterotopic connections\n",
    "        - Weighted Degree Centrality of pCNG\n",
    "    - Meta Connectivity\n",
    "        (to be continued)"
   ]
  },
  {
   "cell_type": "code",
   "execution_count": null,
   "metadata": {},
   "outputs": [],
   "source": [
    "import sys\n",
    "sys.path.append('/Users/yilewang/workspaces/')"
   ]
  },
  {
   "cell_type": "code",
   "execution_count": null,
   "metadata": {},
   "outputs": [],
   "source": [
    "import numpy as np\n",
    "import pandas as pd\n",
    " \n",
    "import scipy\n",
    "from scipy import signal\n",
    "from scipy.signal import find_peaks\n",
    "from scipy.optimize import curve_fit\n",
    "from scipy.stats import skew, kurtosis\n",
    " \n",
    "import matplotlib.pyplot as plt\n",
    "from os.path import join as pjoin\n",
    "from tvbtools.tools import burst_detection"
   ]
  },
  {
   "cell_type": "code",
   "execution_count": null,
   "metadata": {},
   "outputs": [],
   "source": []
  }
 ],
 "metadata": {
  "kernelspec": {
   "display_name": "tvbenv",
   "language": "python",
   "name": "python3"
  },
  "language_info": {
   "name": "python",
   "version": "3.11.4"
  }
 },
 "nbformat": 4,
 "nbformat_minor": 2
}
