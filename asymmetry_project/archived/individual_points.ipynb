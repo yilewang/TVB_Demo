{
 "cells": [
  {
   "cell_type": "code",
   "execution_count": null,
   "metadata": {},
   "outputs": [],
   "source": [
    "import numpy as np\n",
    "import pandas as pd\n",
    "import matplotlib.pyplot as plt\n",
    "import seaborn as sns"
   ]
  },
  {
   "cell_type": "code",
   "execution_count": null,
   "metadata": {},
   "outputs": [],
   "source": [
    "# import all metrics skipping row 1\n",
    "all_metrics = pd.read_excel('/Users/yilewang/workspaces/data4project/mega_table.xlsx', sheet_name='hodgepodge',skiprows=1)\n",
    "colorcoding = [\"#66CDAA\",\"#4682B4\",\"#AB63FA\",\"#FFA15A\"]"
   ]
  },
  {
   "cell_type": "code",
   "execution_count": null,
   "metadata": {},
   "outputs": [],
   "source": [
    "# plot all the graphs\n",
    "def plotting(data, x, y, colorcoding):\n",
    "    jitter = 0.2\n",
    "    # Set the figure size\n",
    "    plt.figure(figsize=(15, 10), dpi=100)\n",
    "\n",
    "    # # Create a violinplot\n",
    "    # sns.violinplot(x=x, y=y, data=data, inner=None, palette=colorcoding)\n",
    "\n",
    "    # Map groups to numerical values\n",
    "    group_to_num = {group: num for num, group in enumerate(data.group.unique())}\n",
    "    num_to_group = {num: group for group, num in group_to_num.items()}\n",
    "    data_jittered = data.replace({x: group_to_num})\n",
    "\n",
    "    # Add jitter to the x-coordinate\n",
    "    data_jittered[x] = data_jittered[x] + np.random.uniform(-jitter, jitter, size=len(data))\n",
    "\n",
    "    sns.violinplot(data = data, x=x, y = y, inner=None, bw=.4, palette=colorcoding, linewidth=3, alpha = 1)\n",
    "\n",
    "    # Overlay a scatterplot for individual data points\n",
    "    plt.scatter(x=x, y=y, data=data_jittered, edgecolor='black', color='black', alpha=0.5)\n",
    "\n",
    "    # Annotate each point with the caseid\n",
    "    for i in range(data_jittered.shape[0]):\n",
    "        plt.text(x=data_jittered[x][i], y=data_jittered[y][i], s=data_jittered.caseid[i], \n",
    "                fontdict=dict(color='black', size=8))\n",
    "\n",
    "    # Set x-labels to the group names\n",
    "    plt.xticks(ticks=range(len(data.group.unique())), labels=data.group.unique())\n",
    "    sns.pointplot(data=data, x = x, y=y, estimator=np.mean, color=\"red\", errorbar = None, join=True, linestyles='--', markers='s')\n",
    "    # Show the plot\n",
    "    plt.show()\n"
   ]
  },
  {
   "cell_type": "code",
   "execution_count": null,
   "metadata": {},
   "outputs": [],
   "source": [
    "for i in all_metrics.columns[12:]:\n",
    "    plotting(all_metrics, 'group', i, colorcoding)"
   ]
  },
  {
   "cell_type": "code",
   "execution_count": null,
   "metadata": {},
   "outputs": [],
   "source": []
  }
 ],
 "metadata": {
  "kernelspec": {
   "display_name": "tvbenv",
   "language": "python",
   "name": "python3"
  },
  "language_info": {
   "codemirror_mode": {
    "name": "ipython",
    "version": 3
   },
   "file_extension": ".py",
   "mimetype": "text/x-python",
   "name": "python",
   "nbconvert_exporter": "python",
   "pygments_lexer": "ipython3",
   "version": "3.11.4"
  },
  "orig_nbformat": 4
 },
 "nbformat": 4,
 "nbformat_minor": 2
}
