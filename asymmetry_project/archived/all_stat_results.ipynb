{
 "cells": [
  {
   "attachments": {},
   "cell_type": "markdown",
   "metadata": {},
   "source": [
    "### The statistical results of my data\n",
    "\n",
    "In this jupyter notebook, I will use `stats_calculator` tools to compute all the permutation results in my data. It will include the tvb global parameters, `Gc` and `Go`, lateralization metrics, and `wdc`.\n"
   ]
  },
  {
   "cell_type": "code",
   "execution_count": 2,
   "metadata": {},
   "outputs": [],
   "source": [
    "import sys\n",
    "sys.path.append(\"/home/yat-lok/workspace/tvbtools\")\n",
    "from tools.statools import stats_calculator, stats_calculator_three\n",
    "import pandas as pd\n",
    "import numpy as np\n",
    "\n",
    "prefix = \"/home/yat-lok/workspace/data4project/lateralization/all_tables/\""
   ]
  },
  {
   "cell_type": "markdown",
   "metadata": {},
   "source": [
    "### permutation for Gc and Go"
   ]
  },
  {
   "cell_type": "code",
   "execution_count": 9,
   "metadata": {},
   "outputs": [
    {
     "name": "stdout",
     "output_type": "stream",
     "text": [
      "                      (SNC, NC) (SNC, MCI)  (SNC, AD)  (NC, MCI)  \\\n",
      "Go                     0.549745    0.40436   0.214779   0.549745   \n",
      "Gc                     0.686931   0.476152   0.338964   0.613289   \n",
      "Gmax                   0.235776   0.619738   0.619738   0.235776   \n",
      "Go_Gc                 0.0001***  0.0001***  0.0001***  0.0001***   \n",
      "Gmax_Gc               0.0001***  0.0001***  0.0001***  0.0001***   \n",
      "Integration_Variance   0.827717   0.827717   0.218376   0.827717   \n",
      "Integration_Mean       0.887311   0.568864   0.077991   0.568864   \n",
      "Integration_Median     0.992701   0.236976   0.887311   0.157182   \n",
      "\n",
      "                                   (NC, AD)  (MCI, AD)  \n",
      "Go                                 0.214779   0.335166  \n",
      "Gc                                 0.476152   0.686931  \n",
      "Gmax                               0.195582   0.379163  \n",
      "Go_Gc                             0.0001***  0.0001***  \n",
      "Gmax_Gc                           0.0001***  0.0001***  \n",
      "Integration_Variance               0.332367   0.438756  \n",
      "Integration_Mean      0.018000000000000002*    0.10019  \n",
      "Integration_Median                 0.887311    0.49255  \n"
     ]
    }
   ],
   "source": [
    "daf = pd.read_excel('/home/yat-lok/workspace/data4project/lateralization/tvb_parameters.xlsx')\n",
    "dff = stats_calculator(daf, mode = \"P\", n=6,correction = \"FDR\")\n",
    "dff.to_excel(f\"{prefix}tvb_stats.xlsx\")"
   ]
  },
  {
   "cell_type": "markdown",
   "metadata": {},
   "source": [
    "### permutation of lateralization and simulated metrics"
   ]
  },
  {
   "cell_type": "code",
   "execution_count": 20,
   "metadata": {},
   "outputs": [
    {
     "name": "stdout",
     "output_type": "stream",
     "text": [
      "pcgl_freq_gamma\n",
      "9.486486486486486\n",
      "10.146552128070656\n",
      "pcgr_freq_gamma\n",
      "23.85135135135135\n",
      "8.265333714805033\n",
      "pcgl_freq_theta\n",
      "3.189189189189189\n",
      "2.299680798506232\n",
      "pcgr_freq_theta\n",
      "5.608108108108108\n",
      "0.9560273597742696\n",
      "pcgl_amp_gamma\n",
      "1.2962440696496125\n",
      "1.0973034675601872\n",
      "pcgr_amp_gamma\n",
      "2.6664229108722357\n",
      "0.525601522851457\n",
      "pcgl_amp_theta\n",
      "0.75996075786819\n",
      "0.5459143149793043\n",
      "pcgr_amp_theta\n",
      "1.3301307088018113\n",
      "0.24554471584820106\n",
      "pcgl_pac\n",
      "0.11335137718989143\n",
      "0.08527668172480252\n",
      "pcgr_pac\n",
      "0.025467379067868105\n",
      "0.014412182683607992\n",
      "pcgl_plv\n",
      "0.14315663488938318\n",
      "0.05526620258870012\n",
      "pcgr_plv\n",
      "0.05032445942806503\n",
      "0.022129448166210833\n",
      "pcg_delay\n",
      "0.3800247687262458\n",
      "0.3994873602854407\n"
     ]
    }
   ],
   "source": [
    "daf = pd.read_excel('/home/yat-lok/workspace/data4project/lateralization/gc1sec_res/lateralization.xlsx')\n",
    "dbf = pd.read_excel('/home/yat-lok/workspace/data4project/lateralization/gc1sec_res/gc1sec_res.xlsx')\n",
    "\n",
    "for i in range(2, 15):\n",
    "    print(dbf.columns[i])\n",
    "    print(np.mean(dbf.iloc[:,i]))\n",
    "    print(np.std(dbf.iloc[:,i]))\n",
    "\n",
    "\n",
    "\n",
    "# dcf = stats_calculator(daf, mode=\"P\", n=3, tails=\"less\")\n",
    "# dcf.to_excel(f\"{prefix}lateralization.xlsx\")\n",
    "\n",
    "\n",
    "# ddf = stats_calculator(dbf.iloc[:,:10], mode=\"P\", n=3)\n",
    "# ddf.to_excel(f\"{prefix}gc1sec_res_part1.xlsx\")\n",
    "\n",
    "# dbff = pd.concat([dbf.group, dbf.caseid, dbf.iloc[:,10:]], axis=1)\n",
    "# deef = stats_calculator(dbff, mode=\"P\", n=3, tails = \"less\")\n",
    "# deef.to_excel(f\"{prefix}gc1sec_res_part2.xlsx\")\n"
   ]
  },
  {
   "cell_type": "markdown",
   "metadata": {},
   "source": [
    "#### permutation of weighted degree centrality"
   ]
  },
  {
   "cell_type": "code",
   "execution_count": 3,
   "metadata": {},
   "outputs": [],
   "source": [
    "daf = pd.read_excel('/home/yat-lok/workspace/data4project/lateralization/gc1sec_res/sc_data.xlsx')\n",
    "dbf = pd.read_excel('/home/yat-lok/workspace/data4project/lateralization/gc1sec_res/hetero_weights.xlsx')\n",
    "dcf = stats_calculator(daf, mode=\"P\", n=3)\n",
    "ddf = stats_calculator(dbf, mode=\"P\", n=3)\n",
    "\n",
    "dcf.to_excel(f\"{prefix}sc_homo.xlsx\")\n",
    "ddf.to_excel(f\"{prefix}sc_hetero.xlsx\")"
   ]
  },
  {
   "cell_type": "markdown",
   "metadata": {},
   "source": [
    "#### permutation of weighted degree"
   ]
  },
  {
   "cell_type": "code",
   "execution_count": 18,
   "metadata": {},
   "outputs": [
    {
     "name": "stderr",
     "output_type": "stream",
     "text": [
      "/home/yat-lok/miniconda3/envs/tvbenv/lib/python3.8/site-packages/openpyxl/worksheet/_reader.py:312: UserWarning: Unknown extension is not supported and will be removed\n",
      "  warn(msg)\n"
     ]
    }
   ],
   "source": [
    "daf = pd.read_excel('/home/yat-lok/workspace/data4project/lateralization/gc1sec_res/weighted_node_degree.xlsx')\n",
    "# combine\n",
    "merge_wdc = pd.DataFrame({\"group\":daf.group, \"caseid\":daf.caseid})\n",
    "for i in range(2, len(daf.columns), 2):\n",
    "    tmp_mean = np.mean(daf.iloc[:,i:i+1+1], 1)\n",
    "    merge_wdc = pd.concat([merge_wdc, tmp_mean], axis=1)\n",
    "merge_wdc.columns = [\"group\",\"caseid\",'aCNG','mCNG','pCNG', 'HIP','PHG','AMY', 'sTEMp','mTEMp']\n",
    "\n",
    "\n",
    "\n",
    "# dcf = stats_calculator(merge_wdc, mode=\"P\", n=3, tails=\"less\")\n",
    "# print(dcf)\n",
    "# dcf.to_excel(f\"{prefix}merged_wdc.xlsx\")\n",
    "\n",
    "ddf = pd.DataFrame({\"group\":daf.group, \"caseid\":daf.caseid})\n",
    "for ind, j in enumerate(range(2,18,2)):\n",
    "    first = (daf.iloc[:,j] - min(daf.iloc[:,j].min(), daf.iloc[:,j+1].min())) / (max(daf.iloc[:,j].max(), daf.iloc[:,j+1].max()) - min(daf.iloc[:,j].min(), daf.iloc[:,j+1].min()))\n",
    "    second = (daf.iloc[:,j+1] - min(daf.iloc[:,j].min(), daf.iloc[:,j+1].min())) / (max(daf.iloc[:,j].max(), daf.iloc[:,j+1].max()) - min(daf.iloc[:,j].min(), daf.iloc[:,j+1].min()))\n",
    "\n",
    "    tmp = second - first\n",
    "    ddf = pd.concat([ddf, tmp], axis=1, ignore_index=True)\n",
    "ddf.columns =merge_wdc.columns\n",
    "\n",
    "dadf = stats_calculator(ddf, mode=\"P\", n=3, tails=\"less\")\n",
    "dadf.to_excel(f\"{prefix}slope_wdc.xlsx\")\n"
   ]
  },
  {
   "cell_type": "markdown",
   "metadata": {},
   "source": [
    "#### permutation of meta-connectivity"
   ]
  },
  {
   "cell_type": "code",
   "execution_count": 5,
   "metadata": {},
   "outputs": [
    {
     "name": "stderr",
     "output_type": "stream",
     "text": [
      "/home/yat-lok/workspace/tvbtools/tools/statools.py:249: UserWarning: Boolean Series key will be reindexed to match DataFrame index.\n",
      "  tmp_col = tmp_df[datatable[\"group\"].str.contains(str(groups[x]))]\n"
     ]
    }
   ],
   "source": [
    "import sys\n",
    "sys.path.append(\"/home/yat-lok/workspace/tvbtools\")\n",
    "from tools.statools import stats_calculator\n",
    "import pandas as pd\n",
    "import numpy as np\n",
    "\n",
    "daf = pd.read_excel('/home/yat-lok/workspace/data4project/lateralization/gc1sec_res/meta/mc_homo.xlsx')\n",
    "dff = stats_calculator(daf, mode = \"P\", n=6)\n",
    "dff.to_excel(f\"{prefix}mc_homo.xlsx\")\n",
    "\n",
    "\n",
    "\n",
    "dbf = pd.read_excel('/home/yat-lok/workspace/data4project/lateralization/gc1sec_res/meta/participation_coef.xlsx')\n",
    "dab = stats_calculator_three(dbf, var = \"participation_coef\", third_var = \"cluster\")\n",
    "dab.to_excel(f\"{prefix}mc_part.xlsx\")\n"
   ]
  },
  {
   "cell_type": "code",
   "execution_count": 6,
   "metadata": {},
   "outputs": [],
   "source": [
    "# from statsmodels.stats.multitest import fdrcorrection\n",
    "# import numpy as np\n",
    "# my_list_of_p_values = np.array([0.2, 0.03])\n",
    "\n",
    "# A = [0.1,0.2,.3,.4,.5,.6,.2,0.1,0.2,0.3, 0.4, 0.8, 0.2]\n",
    "# B = [1,2,5,3,2,4,6,3,2,4,2,2,3,4]\n",
    "# import sys\n",
    "# sys.path.append(\"/home/yat-lok/workspace/tvbtools\")\n",
    "# from tools.statools import permutation_test\n",
    "# permutation_test(A,B,tails=\"greater\", iteration = 1000, visual=True)\n",
    "# print(permutation_test(x=A,y=B, tails=\"greater\", iteration = 1000))\n",
    "\n",
    "# rejected, q_value = fdrcorrection([0.01, 0.02, 0.08])\n",
    "# print(q_value)"
   ]
  }
 ],
 "metadata": {
  "kernelspec": {
   "display_name": "Python 3.8.13 ('tvbenv')",
   "language": "python",
   "name": "python3"
  },
  "language_info": {
   "codemirror_mode": {
    "name": "ipython",
    "version": 3
   },
   "file_extension": ".py",
   "mimetype": "text/x-python",
   "name": "python",
   "nbconvert_exporter": "python",
   "pygments_lexer": "ipython3",
   "version": "3.8.13"
  },
  "orig_nbformat": 4,
  "vscode": {
   "interpreter": {
    "hash": "7d6eff59d82162ad618c2fda16bbe4a2b1e156e75fbd6961cfe85de3ca5351f8"
   }
  }
 },
 "nbformat": 4,
 "nbformat_minor": 2
}
