{
 "cells": [
  {
   "attachments": {},
   "cell_type": "markdown",
   "metadata": {},
   "source": [
    "### A python file to calculate the spikes frequency between left and right in the LFPs data "
   ]
  },
  {
   "cell_type": "code",
   "execution_count": 1,
   "metadata": {},
   "outputs": [],
   "source": [
    "import numpy as np\n",
    "import pandas as pd\n",
    "from scipy.signal import find_peaks"
   ]
  },
  {
   "cell_type": "code",
   "execution_count": 2,
   "metadata": {},
   "outputs": [],
   "source": [
    "a = [0,1,0,0,0,0,0,1,0,1,0,0,0,1,0]\n",
    "b = [0,0,1,0,0,0,0,0,1,0,1,0,0,0,1]\n",
    "\n",
    "grp = \"SNC\"\n",
    "caseid = \"2820A\"\n",
    "gm = 0.014\n",
    "\n",
    "filename = '/home/yat-lok/workspace/data4project/lateralization/LFP_critical/'+str(grp)+'/'+str(caseid)+'_'+str(gm)+'.csv'\n",
    "df = pd.read_csv(filename)\n",
    "a = df.iloc[:,5].to_numpy()\n",
    "b = df.iloc[:,6].to_numpy()\n",
    "peaks_a, _ = find_peaks(a, prominence=1)\n",
    "peaks_b,_ = find_peaks(b, prominence=1)\n",
    "np_a = np.zeros((1,81920))\n",
    "np_a[:,peaks_a] = 1\n",
    "\n",
    "np_b = np.zeros((1,81920))\n",
    "np_b[:,peaks_b] = 1\n",
    "\n",
    "a = np_a[0]\n",
    "b = np_b[0]"
   ]
  },
  {
   "cell_type": "code",
   "execution_count": 3,
   "metadata": {},
   "outputs": [],
   "source": [
    "\n",
    "def signal_corr(x, y, interval=int(81920/100)):\n",
    "    interval = np.arange(0, len(a), interval)\n",
    "    si_list = []\n",
    "    sj_list = []\n",
    "    for i in range(len(interval)-1):\n",
    "        si_list.append(np.sum(a[interval[i]:interval[i+1]]))\n",
    "        sj_list.append(np.sum(b[interval[i]:interval[i+1]]))\n",
    "\n",
    "    vi = np.mean(si_list)\n",
    "    vj = np.mean(sj_list)\n",
    "\n",
    "    tau_list_pos = []\n",
    "    for i in range(len(si_list)-1):\n",
    "        cij_tau = np.mean(si_list[i]*sj_list[i+1]) - vi*vj\n",
    "        tau_list_pos.append(cij_tau)\n",
    "    tau_list_neg = []\n",
    "    for i in range(1,len(si_list)):\n",
    "        _cij_tau = np.mean(si_list[i]*sj_list[i-1]) - vi*vj\n",
    "        tau_list_neg.append(_cij_tau)\n",
    "    par1 = tau_list_neg[::-1]\n",
    "    par1.extend(tau_list_pos)\n",
    "    cij = []\n",
    "    for i in range(len(par1)):\n",
    "        _cij = par1[i]* (len(a) - np.abs(interval[1]-interval[0]))/len(a)\n",
    "        cij.append(_cij)\n",
    "\n",
    "    return cij\n",
    "\n"
   ]
  },
  {
   "cell_type": "code",
   "execution_count": 8,
   "metadata": {},
   "outputs": [],
   "source": [
    "path = '/home/yat-lok/workspace/data4project/lateralization/tvb_parameters.xlsx'\n",
    "coData = pd.read_excel(path)\n",
    "\n",
    "co = pd.DataFrame()\n",
    "for grp, caseid in zip(coData.groups, coData.caseid):\n",
    "    gm = np.round(coData.loc[coData['caseid'] == caseid, 'Gc'].item(), 3)\n",
    "    filename = '/home/yat-lok/workspace/data4project/lateralization/LFP_critical/'+str(grp)+'/'+str(caseid)+'_'+str(gm)+'.csv'\n",
    "    # filename = '/mnt/w/gc3mins/'+grp+'/'+caseid+'.h5'\n",
    "    df = pd.read_csv(filename)\n",
    "    a = df.iloc[:,5]\n",
    "    b = df.iloc[:,6]\n",
    "    peaks_a, _ = find_peaks(a, prominence=1)\n",
    "    peaks_b,_ = find_peaks(b, prominence=1)\n",
    "    np_a = np.zeros((1,81920))\n",
    "    np_a[:,peaks_a] = 3\n",
    "    np_b = np.zeros((1,81920))\n",
    "    np_b[:,peaks_b] = 3\n",
    "    a = np_a[0]\n",
    "    b = np_b[0]\n",
    "    corr = np.array(signal_corr(a,b,2000))/2000\n",
    "    _tmp = pd.DataFrame([{\"group\":grp, \"caseid\":caseid, \"sig_corr\":np.sum(corr)}])\n",
    "    co = pd.concat([co, _tmp], ignore_index=True)"
   ]
  },
  {
   "cell_type": "code",
   "execution_count": 9,
   "metadata": {},
   "outputs": [
    {
     "data": {
      "text/plain": [
       "[]"
      ]
     },
     "execution_count": 9,
     "metadata": {},
     "output_type": "execute_result"
    },
    {
     "data": {
      "image/png": "[encoded data removed]",
      "text/plain": [
       "<Figure size 432x288 with 1 Axes>"
      ]
     },
     "metadata": {
      "needs_background": "light"
     },
     "output_type": "display_data"
    }
   ],
   "source": [
    "import seaborn as sns\n",
    "import matplotlib.pyplot as plt\n",
    "sns.violinplot(x=\"group\", y=\"sig_corr\", data=co, inner = None, width=0.7, bw=0.2)\n",
    "sns.stripplot( x=\"group\", y=\"sig_corr\", data=co, color='black', label=\"right\")\n",
    "sns.pointplot(x=\"group\", y=\"sig_corr\", data=co, estimator=np.mean, color = 'red')\n",
    "plt.plot()"
   ]
  }
 ],
 "metadata": {
  "kernelspec": {
   "display_name": "Python 3.10.6 64-bit",
   "language": "python",
   "name": "python3"
  },
  "language_info": {
   "codemirror_mode": {
    "name": "ipython",
    "version": 3
   },
   "file_extension": ".py",
   "mimetype": "text/x-python",
   "name": "python",
   "nbconvert_exporter": "python",
   "pygments_lexer": "ipython3",
   "version": "3.10.6 (main, Nov 14 2022, 16:10:14) [GCC 11.3.0]"
  },
  "orig_nbformat": 4,
  "vscode": {
   "interpreter": {
    "hash": "916dbcbb3f70747c44a77c7bcd40155683ae19c65e1c03b4aa3499c5328201f1"
   }
  }
 },
 "nbformat": 4,
 "nbformat_minor": 2
}
